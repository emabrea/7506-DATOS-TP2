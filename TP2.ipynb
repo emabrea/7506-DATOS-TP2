{
 "cells": [
  {
   "cell_type": "code",
   "execution_count": 1,
   "metadata": {},
   "outputs": [],
   "source": [
    "import pandas as pd\n",
    "import numpy as np\n",
    "import matplotlib.pylab as plt\n",
    "%matplotlib inline"
   ]
  },
  {
   "cell_type": "code",
   "execution_count": 2,
   "metadata": {},
   "outputs": [],
   "source": [
    "modelo=pd.read_csv('data/modelo.csv',low_memory=False)"
   ]
  },
  {
   "cell_type": "code",
   "execution_count": 3,
   "metadata": {},
   "outputs": [
    {
     "data": {
      "text/html": [
       "<div>\n",
       "<style scoped>\n",
       "    .dataframe tbody tr th:only-of-type {\n",
       "        vertical-align: middle;\n",
       "    }\n",
       "\n",
       "    .dataframe tbody tr th {\n",
       "        vertical-align: top;\n",
       "    }\n",
       "\n",
       "    .dataframe thead th {\n",
       "        text-align: right;\n",
       "    }\n",
       "</style>\n",
       "<table border=\"1\" class=\"dataframe\">\n",
       "  <thead>\n",
       "    <tr style=\"text-align: right;\">\n",
       "      <th></th>\n",
       "      <th>timestamp</th>\n",
       "      <th>event</th>\n",
       "      <th>person</th>\n",
       "      <th>url</th>\n",
       "      <th>sku</th>\n",
       "      <th>model</th>\n",
       "      <th>condition</th>\n",
       "      <th>storage</th>\n",
       "      <th>color</th>\n",
       "      <th>skus</th>\n",
       "      <th>...</th>\n",
       "      <th>search_engine</th>\n",
       "      <th>channel</th>\n",
       "      <th>new_vs_returning</th>\n",
       "      <th>city</th>\n",
       "      <th>region</th>\n",
       "      <th>country</th>\n",
       "      <th>device_type</th>\n",
       "      <th>screen_resolution</th>\n",
       "      <th>operating_system_version</th>\n",
       "      <th>browser_version</th>\n",
       "    </tr>\n",
       "  </thead>\n",
       "  <tbody>\n",
       "    <tr>\n",
       "      <th>0</th>\n",
       "      <td>2018-05-18 00:11:59</td>\n",
       "      <td>viewed product</td>\n",
       "      <td>4886f805</td>\n",
       "      <td>NaN</td>\n",
       "      <td>9288.0</td>\n",
       "      <td>Samsung Galaxy J7 Prime</td>\n",
       "      <td>Excelente</td>\n",
       "      <td>32GB</td>\n",
       "      <td>Dourado</td>\n",
       "      <td>NaN</td>\n",
       "      <td>...</td>\n",
       "      <td>NaN</td>\n",
       "      <td>NaN</td>\n",
       "      <td>NaN</td>\n",
       "      <td>NaN</td>\n",
       "      <td>NaN</td>\n",
       "      <td>NaN</td>\n",
       "      <td>NaN</td>\n",
       "      <td>NaN</td>\n",
       "      <td>NaN</td>\n",
       "      <td>NaN</td>\n",
       "    </tr>\n",
       "    <tr>\n",
       "      <th>1</th>\n",
       "      <td>2018-05-18 00:11:27</td>\n",
       "      <td>viewed product</td>\n",
       "      <td>ad93850f</td>\n",
       "      <td>NaN</td>\n",
       "      <td>304.0</td>\n",
       "      <td>iPhone 5s</td>\n",
       "      <td>Muito Bom</td>\n",
       "      <td>32GB</td>\n",
       "      <td>Cinza espacial</td>\n",
       "      <td>NaN</td>\n",
       "      <td>...</td>\n",
       "      <td>NaN</td>\n",
       "      <td>NaN</td>\n",
       "      <td>NaN</td>\n",
       "      <td>NaN</td>\n",
       "      <td>NaN</td>\n",
       "      <td>NaN</td>\n",
       "      <td>NaN</td>\n",
       "      <td>NaN</td>\n",
       "      <td>NaN</td>\n",
       "      <td>NaN</td>\n",
       "    </tr>\n",
       "    <tr>\n",
       "      <th>2</th>\n",
       "      <td>2018-05-18 00:11:16</td>\n",
       "      <td>viewed product</td>\n",
       "      <td>0297fc1e</td>\n",
       "      <td>NaN</td>\n",
       "      <td>6888.0</td>\n",
       "      <td>iPhone 6S</td>\n",
       "      <td>Muito Bom</td>\n",
       "      <td>64GB</td>\n",
       "      <td>Prateado</td>\n",
       "      <td>NaN</td>\n",
       "      <td>...</td>\n",
       "      <td>NaN</td>\n",
       "      <td>NaN</td>\n",
       "      <td>NaN</td>\n",
       "      <td>NaN</td>\n",
       "      <td>NaN</td>\n",
       "      <td>NaN</td>\n",
       "      <td>NaN</td>\n",
       "      <td>NaN</td>\n",
       "      <td>NaN</td>\n",
       "      <td>NaN</td>\n",
       "    </tr>\n",
       "    <tr>\n",
       "      <th>3</th>\n",
       "      <td>2018-05-18 00:11:14</td>\n",
       "      <td>viewed product</td>\n",
       "      <td>2d681dd8</td>\n",
       "      <td>NaN</td>\n",
       "      <td>11890.0</td>\n",
       "      <td>iPhone 7</td>\n",
       "      <td>Bom</td>\n",
       "      <td>128GB</td>\n",
       "      <td>Vermelho</td>\n",
       "      <td>NaN</td>\n",
       "      <td>...</td>\n",
       "      <td>NaN</td>\n",
       "      <td>NaN</td>\n",
       "      <td>NaN</td>\n",
       "      <td>NaN</td>\n",
       "      <td>NaN</td>\n",
       "      <td>NaN</td>\n",
       "      <td>NaN</td>\n",
       "      <td>NaN</td>\n",
       "      <td>NaN</td>\n",
       "      <td>NaN</td>\n",
       "    </tr>\n",
       "    <tr>\n",
       "      <th>4</th>\n",
       "      <td>2018-05-18 00:11:09</td>\n",
       "      <td>viewed product</td>\n",
       "      <td>cccea85e</td>\n",
       "      <td>NaN</td>\n",
       "      <td>7517.0</td>\n",
       "      <td>LG G4 H818P</td>\n",
       "      <td>Excelente</td>\n",
       "      <td>32GB</td>\n",
       "      <td>Branco</td>\n",
       "      <td>NaN</td>\n",
       "      <td>...</td>\n",
       "      <td>NaN</td>\n",
       "      <td>NaN</td>\n",
       "      <td>NaN</td>\n",
       "      <td>NaN</td>\n",
       "      <td>NaN</td>\n",
       "      <td>NaN</td>\n",
       "      <td>NaN</td>\n",
       "      <td>NaN</td>\n",
       "      <td>NaN</td>\n",
       "      <td>NaN</td>\n",
       "    </tr>\n",
       "  </tbody>\n",
       "</table>\n",
       "<p>5 rows × 23 columns</p>\n",
       "</div>"
      ],
      "text/plain": [
       "             timestamp           event    person  url      sku  \\\n",
       "0  2018-05-18 00:11:59  viewed product  4886f805  NaN   9288.0   \n",
       "1  2018-05-18 00:11:27  viewed product  ad93850f  NaN    304.0   \n",
       "2  2018-05-18 00:11:16  viewed product  0297fc1e  NaN   6888.0   \n",
       "3  2018-05-18 00:11:14  viewed product  2d681dd8  NaN  11890.0   \n",
       "4  2018-05-18 00:11:09  viewed product  cccea85e  NaN   7517.0   \n",
       "\n",
       "                     model  condition storage           color skus  \\\n",
       "0  Samsung Galaxy J7 Prime  Excelente    32GB         Dourado  NaN   \n",
       "1                iPhone 5s  Muito Bom    32GB  Cinza espacial  NaN   \n",
       "2                iPhone 6S  Muito Bom    64GB        Prateado  NaN   \n",
       "3                 iPhone 7        Bom   128GB        Vermelho  NaN   \n",
       "4              LG G4 H818P  Excelente    32GB          Branco  NaN   \n",
       "\n",
       "        ...       search_engine channel new_vs_returning city region country  \\\n",
       "0       ...                 NaN     NaN              NaN  NaN    NaN     NaN   \n",
       "1       ...                 NaN     NaN              NaN  NaN    NaN     NaN   \n",
       "2       ...                 NaN     NaN              NaN  NaN    NaN     NaN   \n",
       "3       ...                 NaN     NaN              NaN  NaN    NaN     NaN   \n",
       "4       ...                 NaN     NaN              NaN  NaN    NaN     NaN   \n",
       "\n",
       "  device_type screen_resolution operating_system_version browser_version  \n",
       "0         NaN               NaN                      NaN             NaN  \n",
       "1         NaN               NaN                      NaN             NaN  \n",
       "2         NaN               NaN                      NaN             NaN  \n",
       "3         NaN               NaN                      NaN             NaN  \n",
       "4         NaN               NaN                      NaN             NaN  \n",
       "\n",
       "[5 rows x 23 columns]"
      ]
     },
     "execution_count": 3,
     "metadata": {},
     "output_type": "execute_result"
    }
   ],
   "source": [
    "modelo.head()"
   ]
  },
  {
   "cell_type": "code",
   "execution_count": 4,
   "metadata": {},
   "outputs": [],
   "source": [
    "modelo.drop(['url', 'sku', 'skus','channel','staticpage','condition','storage','color','search_engine','device_type','campaign_source','country','region','search_term','new_vs_returning','city','region','screen_resolution','operating_system_version','browser_version'], axis=1, inplace=True)"
   ]
  },
  {
   "cell_type": "code",
   "execution_count": 5,
   "metadata": {},
   "outputs": [],
   "source": [
    "training= pd.read_csv('data/training.csv',low_memory=False)"
   ]
  },
  {
   "cell_type": "markdown",
   "metadata": {},
   "source": [
    "# Armado del modelo"
   ]
  },
  {
   "cell_type": "code",
   "execution_count": 6,
   "metadata": {},
   "outputs": [],
   "source": [
    "modelo.sort_values('person',inplace=True)"
   ]
  },
  {
   "cell_type": "code",
   "execution_count": 7,
   "metadata": {},
   "outputs": [
    {
     "data": {
      "text/plain": [
       "\"\\nmodelo['checkouts_ultima_semana']=modelo['person'].map(modelo.groupby(['person','event',(modelo['timestamp'].dt.month==5)& (modelo['timestamp'].dt.day>23)]).size().unstack()[True].unstack()['checkout'])\\nmodelo['checkouts_ultima_semana']=modelo['checkouts_ultima_semana'].fillna(0).astype(int)\\n\\n\\n\\nmodelo['total_compras']=modelo['person'].map(modelo.groupby(['person','event']).size().unstack()['conversion'])\\nmodelo['total_compras']=modelo['total_compras'].fillna(0).astype(int)\\n\\n\\n\\nmodelo['compras_ultimo_mes']=modelo['person'].map(modelo.groupby(['person','event',modelo['timestamp'].dt.month==5 ]).size().unstack()[True].unstack()['conversion'])\\nmodelo['compras_ultimo_mes']=modelo['compras_ultimo_mes'].fillna(0).astype(int)\\n\\n\\n\\nmodelo['compras_ultima_semana']=modelo['person'].map(modelo.groupby(['person','event',(modelo['timestamp'].dt.month==5)& (modelo['timestamp'].dt.day>23)]).size().unstack()[True].unstack()['conversion'])\\nmodelo['compras_ultima_semana']=modelo['compras_ultima_semana'].fillna(0).astype(int)\\n\\n\\nmodelo['subscripciones_ultimo_mes']=modelo['person'].map(modelo.groupby(['person','event',modelo['timestamp'].dt.month==5 ]).size().unstack()[True].unstack()['lead'])\\nmodelo['subscripciones_ultimo_mes']=modelo['subscripciones_ultimo_mes'].fillna(0).astype(int)\\n\""
      ]
     },
     "execution_count": 7,
     "metadata": {},
     "output_type": "execute_result"
    }
   ],
   "source": [
    "import calendar\n",
    "\n",
    "modelo['timestamp'] = pd.to_datetime(modelo['timestamp'])\n",
    "modelo['dia']=modelo['timestamp'].dt.dayofyear\n",
    "\n",
    "\n",
    "modelo['dias_distintos'] = modelo['person'].map(modelo.groupby(['person',(modelo['timestamp'].dt.month==5) ] )['dia'].nunique().unstack()[True])   \n",
    "modelo['dias_distintos']=modelo['dias_distintos'].fillna(0).astype(int)\n",
    "\n",
    "modelo['ultima_visita']=modelo['person'].map(modelo.groupby('person' )['dia'].min())    \n",
    "modelo['ultima_visita']=modelo['ultima_visita'].fillna(0).astype(int)\n",
    "modelo.drop('dia',1,inplace=True)\n",
    "\n",
    "\n",
    "modelo['modelos_distintos_vistos']= modelo['person'].map( modelo.groupby('person')['model'].nunique())\n",
    "modelo.drop('model',1,inplace=True)\n",
    "\n",
    "\"\"\"\n",
    "modelo['campaña_ultima_semana']=modelo['person'].map(modelo.groupby(['person',(modelo['timestamp'].dt.month==5) & (modelo['timestamp'].dt.day>23) & (modelo['event']==\"ad campaign hit\")]).size().unstack()[True]) \n",
    "modelo['campaña_ultima_semana']=modelo['campaña_ultima_semana'].fillna(0).astype(int)\n",
    "\"\"\"\n",
    "\n",
    "modelo['busqueda_celular']=modelo['person'].map(modelo.groupby(['person',(modelo['timestamp'].dt.month==5) & (modelo['timestamp'].dt.day>23) & (modelo['event']==\"searched products\")]).size().unstack()[True]) \n",
    "modelo['busqueda_celular']=modelo['busqueda_celular'].fillna(0).astype(int)\n",
    "\n",
    "\n",
    "modelo['total_visitas_usuario'] = modelo.groupby('person')['person'].transform('count')\n",
    "\n",
    "\n",
    "modelo['visitas_ultimo_mes']=modelo['person'].map(modelo.groupby(['person',(modelo['timestamp'].dt.month)==5]).size().unstack()[True])\n",
    "modelo['visitas_ultimo_mes']=modelo['visitas_ultimo_mes'].fillna(0).astype(int)\n",
    "\n",
    "\n",
    "modelo['visitas_ultimos_15']=modelo['person'].map(modelo.groupby(['person', (modelo['timestamp'].dt.month==5)& (modelo['timestamp'].dt.day>15)]).size().unstack()[True])\n",
    "modelo['visitas_ultimos_15']=modelo['visitas_ultimos_15'].fillna(0).astype(int)\n",
    "\n",
    "\n",
    "modelo['visitas_ultima_semana']=modelo['person'].map(modelo.groupby(['person', (modelo['timestamp'].dt.month==5)& (modelo['timestamp'].dt.day>23)]).size().unstack()[True])\n",
    "modelo['visitas_ultima_semana']=modelo['visitas_ultima_semana'].fillna(0).astype(int)\n",
    "\n",
    "\n",
    "modelo['visitas_ultimos_3']=modelo['person'].map(modelo.groupby(['person', (modelo['timestamp'].dt.month==5)& (modelo['timestamp'].dt.day>27)]).size().unstack()[True])\n",
    "modelo['visitas_ultimos_3']=modelo['visitas_ultimos_3'].fillna(0).astype(int)\n",
    "\n",
    "\n",
    "modelo['total_checkout']=modelo['person'].map(modelo.groupby(['person','event']).size().unstack()['checkout'])\n",
    "modelo['total_checkout']=modelo['total_checkout'].fillna(0).astype(int)\n",
    "\n",
    "\n",
    "modelo['checkouts_ultimo_mes']=modelo['person'].map(modelo.groupby(['person','event',modelo['timestamp'].dt.month==5 ]).size().unstack()[True].unstack()['checkout'])   \n",
    "modelo['checkouts_ultimo_mes']=modelo['checkouts_ultimo_mes'].fillna(0).astype(int)\n",
    "\n",
    "\n",
    "\"\"\"\n",
    "modelo['checkouts_ultima_semana']=modelo['person'].map(modelo.groupby(['person','event',(modelo['timestamp'].dt.month==5)& (modelo['timestamp'].dt.day>23)]).size().unstack()[True].unstack()['checkout'])\n",
    "modelo['checkouts_ultima_semana']=modelo['checkouts_ultima_semana'].fillna(0).astype(int)\n",
    "\n",
    "\n",
    "\n",
    "modelo['total_compras']=modelo['person'].map(modelo.groupby(['person','event']).size().unstack()['conversion'])\n",
    "modelo['total_compras']=modelo['total_compras'].fillna(0).astype(int)\n",
    "\n",
    "\n",
    "\n",
    "modelo['compras_ultimo_mes']=modelo['person'].map(modelo.groupby(['person','event',modelo['timestamp'].dt.month==5 ]).size().unstack()[True].unstack()['conversion'])\n",
    "modelo['compras_ultimo_mes']=modelo['compras_ultimo_mes'].fillna(0).astype(int)\n",
    "\n",
    "\n",
    "\n",
    "modelo['compras_ultima_semana']=modelo['person'].map(modelo.groupby(['person','event',(modelo['timestamp'].dt.month==5)& (modelo['timestamp'].dt.day>23)]).size().unstack()[True].unstack()['conversion'])\n",
    "modelo['compras_ultima_semana']=modelo['compras_ultima_semana'].fillna(0).astype(int)\n",
    "\n",
    "\n",
    "modelo['subscripciones_ultimo_mes']=modelo['person'].map(modelo.groupby(['person','event',modelo['timestamp'].dt.month==5 ]).size().unstack()[True].unstack()['lead'])\n",
    "modelo['subscripciones_ultimo_mes']=modelo['subscripciones_ultimo_mes'].fillna(0).astype(int)\n",
    "\"\"\"\n"
   ]
  },
  {
   "cell_type": "code",
   "execution_count": 8,
   "metadata": {},
   "outputs": [],
   "source": [
    "modelo=modelo.drop_duplicates(subset=['person'])\n",
    "modelo.drop(['timestamp','event'], 1, inplace=True)"
   ]
  },
  {
   "cell_type": "code",
   "execution_count": 9,
   "metadata": {},
   "outputs": [],
   "source": [
    "modelo=pd.merge(modelo, training, on='person', how='left')"
   ]
  },
  {
   "cell_type": "code",
   "execution_count": 10,
   "metadata": {},
   "outputs": [
    {
     "data": {
      "text/html": [
       "<div>\n",
       "<style scoped>\n",
       "    .dataframe tbody tr th:only-of-type {\n",
       "        vertical-align: middle;\n",
       "    }\n",
       "\n",
       "    .dataframe tbody tr th {\n",
       "        vertical-align: top;\n",
       "    }\n",
       "\n",
       "    .dataframe thead th {\n",
       "        text-align: right;\n",
       "    }\n",
       "</style>\n",
       "<table border=\"1\" class=\"dataframe\">\n",
       "  <thead>\n",
       "    <tr style=\"text-align: right;\">\n",
       "      <th></th>\n",
       "      <th>person</th>\n",
       "      <th>dias_distintos</th>\n",
       "      <th>ultima_visita</th>\n",
       "      <th>modelos_distintos_vistos</th>\n",
       "      <th>busqueda_celular</th>\n",
       "      <th>total_visitas_usuario</th>\n",
       "      <th>visitas_ultimo_mes</th>\n",
       "      <th>visitas_ultimos_15</th>\n",
       "      <th>visitas_ultima_semana</th>\n",
       "      <th>visitas_ultimos_3</th>\n",
       "      <th>total_checkout</th>\n",
       "      <th>checkouts_ultimo_mes</th>\n",
       "      <th>label</th>\n",
       "    </tr>\n",
       "  </thead>\n",
       "  <tbody>\n",
       "    <tr>\n",
       "      <th>0</th>\n",
       "      <td>0008ed71</td>\n",
       "      <td>1</td>\n",
       "      <td>137</td>\n",
       "      <td>3</td>\n",
       "      <td>0</td>\n",
       "      <td>6</td>\n",
       "      <td>6</td>\n",
       "      <td>6</td>\n",
       "      <td>0</td>\n",
       "      <td>0</td>\n",
       "      <td>3</td>\n",
       "      <td>3</td>\n",
       "      <td>0.0</td>\n",
       "    </tr>\n",
       "    <tr>\n",
       "      <th>1</th>\n",
       "      <td>00091926</td>\n",
       "      <td>22</td>\n",
       "      <td>123</td>\n",
       "      <td>36</td>\n",
       "      <td>0</td>\n",
       "      <td>448</td>\n",
       "      <td>448</td>\n",
       "      <td>261</td>\n",
       "      <td>47</td>\n",
       "      <td>19</td>\n",
       "      <td>2</td>\n",
       "      <td>2</td>\n",
       "      <td>NaN</td>\n",
       "    </tr>\n",
       "    <tr>\n",
       "      <th>2</th>\n",
       "      <td>00091a7a</td>\n",
       "      <td>0</td>\n",
       "      <td>85</td>\n",
       "      <td>3</td>\n",
       "      <td>0</td>\n",
       "      <td>10</td>\n",
       "      <td>0</td>\n",
       "      <td>0</td>\n",
       "      <td>0</td>\n",
       "      <td>0</td>\n",
       "      <td>0</td>\n",
       "      <td>0</td>\n",
       "      <td>NaN</td>\n",
       "    </tr>\n",
       "    <tr>\n",
       "      <th>3</th>\n",
       "      <td>000ba417</td>\n",
       "      <td>3</td>\n",
       "      <td>137</td>\n",
       "      <td>26</td>\n",
       "      <td>0</td>\n",
       "      <td>206</td>\n",
       "      <td>206</td>\n",
       "      <td>206</td>\n",
       "      <td>138</td>\n",
       "      <td>0</td>\n",
       "      <td>6</td>\n",
       "      <td>6</td>\n",
       "      <td>NaN</td>\n",
       "    </tr>\n",
       "    <tr>\n",
       "      <th>4</th>\n",
       "      <td>000c79fe</td>\n",
       "      <td>1</td>\n",
       "      <td>149</td>\n",
       "      <td>1</td>\n",
       "      <td>9</td>\n",
       "      <td>17</td>\n",
       "      <td>17</td>\n",
       "      <td>17</td>\n",
       "      <td>17</td>\n",
       "      <td>17</td>\n",
       "      <td>1</td>\n",
       "      <td>1</td>\n",
       "      <td>0.0</td>\n",
       "    </tr>\n",
       "  </tbody>\n",
       "</table>\n",
       "</div>"
      ],
      "text/plain": [
       "     person  dias_distintos  ultima_visita  modelos_distintos_vistos  \\\n",
       "0  0008ed71               1            137                         3   \n",
       "1  00091926              22            123                        36   \n",
       "2  00091a7a               0             85                         3   \n",
       "3  000ba417               3            137                        26   \n",
       "4  000c79fe               1            149                         1   \n",
       "\n",
       "   busqueda_celular  total_visitas_usuario  visitas_ultimo_mes  \\\n",
       "0                 0                      6                   6   \n",
       "1                 0                    448                 448   \n",
       "2                 0                     10                   0   \n",
       "3                 0                    206                 206   \n",
       "4                 9                     17                  17   \n",
       "\n",
       "   visitas_ultimos_15  visitas_ultima_semana  visitas_ultimos_3  \\\n",
       "0                   6                      0                  0   \n",
       "1                 261                     47                 19   \n",
       "2                   0                      0                  0   \n",
       "3                 206                    138                  0   \n",
       "4                  17                     17                 17   \n",
       "\n",
       "   total_checkout  checkouts_ultimo_mes  label  \n",
       "0               3                     3    0.0  \n",
       "1               2                     2    NaN  \n",
       "2               0                     0    NaN  \n",
       "3               6                     6    NaN  \n",
       "4               1                     1    0.0  "
      ]
     },
     "execution_count": 10,
     "metadata": {},
     "output_type": "execute_result"
    }
   ],
   "source": [
    "modelo.head()"
   ]
  },
  {
   "cell_type": "code",
   "execution_count": 11,
   "metadata": {},
   "outputs": [
    {
     "data": {
      "text/html": [
       "<div>\n",
       "<style scoped>\n",
       "    .dataframe tbody tr th:only-of-type {\n",
       "        vertical-align: middle;\n",
       "    }\n",
       "\n",
       "    .dataframe tbody tr th {\n",
       "        vertical-align: top;\n",
       "    }\n",
       "\n",
       "    .dataframe thead th {\n",
       "        text-align: right;\n",
       "    }\n",
       "</style>\n",
       "<table border=\"1\" class=\"dataframe\">\n",
       "  <thead>\n",
       "    <tr style=\"text-align: right;\">\n",
       "      <th></th>\n",
       "      <th>person</th>\n",
       "      <th>dias_distintos</th>\n",
       "      <th>ultima_visita</th>\n",
       "      <th>modelos_distintos_vistos</th>\n",
       "      <th>busqueda_celular</th>\n",
       "      <th>total_visitas_usuario</th>\n",
       "      <th>visitas_ultimo_mes</th>\n",
       "      <th>visitas_ultimos_15</th>\n",
       "      <th>visitas_ultima_semana</th>\n",
       "      <th>visitas_ultimos_3</th>\n",
       "      <th>total_checkout</th>\n",
       "      <th>checkouts_ultimo_mes</th>\n",
       "      <th>label</th>\n",
       "    </tr>\n",
       "  </thead>\n",
       "  <tbody>\n",
       "    <tr>\n",
       "      <th>1</th>\n",
       "      <td>00091926</td>\n",
       "      <td>22</td>\n",
       "      <td>123</td>\n",
       "      <td>36</td>\n",
       "      <td>0</td>\n",
       "      <td>448</td>\n",
       "      <td>448</td>\n",
       "      <td>261</td>\n",
       "      <td>47</td>\n",
       "      <td>19</td>\n",
       "      <td>2</td>\n",
       "      <td>2</td>\n",
       "      <td>NaN</td>\n",
       "    </tr>\n",
       "    <tr>\n",
       "      <th>2</th>\n",
       "      <td>00091a7a</td>\n",
       "      <td>0</td>\n",
       "      <td>85</td>\n",
       "      <td>3</td>\n",
       "      <td>0</td>\n",
       "      <td>10</td>\n",
       "      <td>0</td>\n",
       "      <td>0</td>\n",
       "      <td>0</td>\n",
       "      <td>0</td>\n",
       "      <td>0</td>\n",
       "      <td>0</td>\n",
       "      <td>NaN</td>\n",
       "    </tr>\n",
       "    <tr>\n",
       "      <th>3</th>\n",
       "      <td>000ba417</td>\n",
       "      <td>3</td>\n",
       "      <td>137</td>\n",
       "      <td>26</td>\n",
       "      <td>0</td>\n",
       "      <td>206</td>\n",
       "      <td>206</td>\n",
       "      <td>206</td>\n",
       "      <td>138</td>\n",
       "      <td>0</td>\n",
       "      <td>6</td>\n",
       "      <td>6</td>\n",
       "      <td>NaN</td>\n",
       "    </tr>\n",
       "    <tr>\n",
       "      <th>5</th>\n",
       "      <td>000e4d9e</td>\n",
       "      <td>9</td>\n",
       "      <td>136</td>\n",
       "      <td>37</td>\n",
       "      <td>0</td>\n",
       "      <td>411</td>\n",
       "      <td>411</td>\n",
       "      <td>411</td>\n",
       "      <td>112</td>\n",
       "      <td>75</td>\n",
       "      <td>1</td>\n",
       "      <td>1</td>\n",
       "      <td>NaN</td>\n",
       "    </tr>\n",
       "    <tr>\n",
       "      <th>6</th>\n",
       "      <td>000e619d</td>\n",
       "      <td>4</td>\n",
       "      <td>135</td>\n",
       "      <td>23</td>\n",
       "      <td>0</td>\n",
       "      <td>68</td>\n",
       "      <td>68</td>\n",
       "      <td>58</td>\n",
       "      <td>0</td>\n",
       "      <td>0</td>\n",
       "      <td>1</td>\n",
       "      <td>1</td>\n",
       "      <td>NaN</td>\n",
       "    </tr>\n",
       "  </tbody>\n",
       "</table>\n",
       "</div>"
      ],
      "text/plain": [
       "     person  dias_distintos  ultima_visita  modelos_distintos_vistos  \\\n",
       "1  00091926              22            123                        36   \n",
       "2  00091a7a               0             85                         3   \n",
       "3  000ba417               3            137                        26   \n",
       "5  000e4d9e               9            136                        37   \n",
       "6  000e619d               4            135                        23   \n",
       "\n",
       "   busqueda_celular  total_visitas_usuario  visitas_ultimo_mes  \\\n",
       "1                 0                    448                 448   \n",
       "2                 0                     10                   0   \n",
       "3                 0                    206                 206   \n",
       "5                 0                    411                 411   \n",
       "6                 0                     68                  68   \n",
       "\n",
       "   visitas_ultimos_15  visitas_ultima_semana  visitas_ultimos_3  \\\n",
       "1                 261                     47                 19   \n",
       "2                   0                      0                  0   \n",
       "3                 206                    138                  0   \n",
       "5                 411                    112                 75   \n",
       "6                  58                      0                  0   \n",
       "\n",
       "   total_checkout  checkouts_ultimo_mes  label  \n",
       "1               2                     2    NaN  \n",
       "2               0                     0    NaN  \n",
       "3               6                     6    NaN  \n",
       "5               1                     1    NaN  \n",
       "6               1                     1    NaN  "
      ]
     },
     "execution_count": 11,
     "metadata": {},
     "output_type": "execute_result"
    }
   ],
   "source": [
    "a_predecir=modelo[modelo['label'].isnull()]\n",
    "a_predecir.head()"
   ]
  },
  {
   "cell_type": "code",
   "execution_count": 12,
   "metadata": {},
   "outputs": [
    {
     "data": {
      "text/html": [
       "<div>\n",
       "<style scoped>\n",
       "    .dataframe tbody tr th:only-of-type {\n",
       "        vertical-align: middle;\n",
       "    }\n",
       "\n",
       "    .dataframe tbody tr th {\n",
       "        vertical-align: top;\n",
       "    }\n",
       "\n",
       "    .dataframe thead th {\n",
       "        text-align: right;\n",
       "    }\n",
       "</style>\n",
       "<table border=\"1\" class=\"dataframe\">\n",
       "  <thead>\n",
       "    <tr style=\"text-align: right;\">\n",
       "      <th></th>\n",
       "      <th>person</th>\n",
       "      <th>dias_distintos</th>\n",
       "      <th>ultima_visita</th>\n",
       "      <th>modelos_distintos_vistos</th>\n",
       "      <th>busqueda_celular</th>\n",
       "      <th>total_visitas_usuario</th>\n",
       "      <th>visitas_ultimo_mes</th>\n",
       "      <th>visitas_ultimos_15</th>\n",
       "      <th>visitas_ultima_semana</th>\n",
       "      <th>visitas_ultimos_3</th>\n",
       "      <th>total_checkout</th>\n",
       "      <th>checkouts_ultimo_mes</th>\n",
       "      <th>label</th>\n",
       "    </tr>\n",
       "  </thead>\n",
       "  <tbody>\n",
       "    <tr>\n",
       "      <th>0</th>\n",
       "      <td>0008ed71</td>\n",
       "      <td>1</td>\n",
       "      <td>137</td>\n",
       "      <td>3</td>\n",
       "      <td>0</td>\n",
       "      <td>6</td>\n",
       "      <td>6</td>\n",
       "      <td>6</td>\n",
       "      <td>0</td>\n",
       "      <td>0</td>\n",
       "      <td>3</td>\n",
       "      <td>3</td>\n",
       "      <td>0</td>\n",
       "    </tr>\n",
       "    <tr>\n",
       "      <th>4</th>\n",
       "      <td>000c79fe</td>\n",
       "      <td>1</td>\n",
       "      <td>149</td>\n",
       "      <td>1</td>\n",
       "      <td>9</td>\n",
       "      <td>17</td>\n",
       "      <td>17</td>\n",
       "      <td>17</td>\n",
       "      <td>17</td>\n",
       "      <td>17</td>\n",
       "      <td>1</td>\n",
       "      <td>1</td>\n",
       "      <td>0</td>\n",
       "    </tr>\n",
       "    <tr>\n",
       "      <th>10</th>\n",
       "      <td>001802e4</td>\n",
       "      <td>1</td>\n",
       "      <td>151</td>\n",
       "      <td>2</td>\n",
       "      <td>4</td>\n",
       "      <td>19</td>\n",
       "      <td>19</td>\n",
       "      <td>19</td>\n",
       "      <td>19</td>\n",
       "      <td>19</td>\n",
       "      <td>1</td>\n",
       "      <td>1</td>\n",
       "      <td>0</td>\n",
       "    </tr>\n",
       "    <tr>\n",
       "      <th>12</th>\n",
       "      <td>0019e639</td>\n",
       "      <td>9</td>\n",
       "      <td>28</td>\n",
       "      <td>26</td>\n",
       "      <td>0</td>\n",
       "      <td>471</td>\n",
       "      <td>290</td>\n",
       "      <td>136</td>\n",
       "      <td>0</td>\n",
       "      <td>0</td>\n",
       "      <td>15</td>\n",
       "      <td>4</td>\n",
       "      <td>0</td>\n",
       "    </tr>\n",
       "    <tr>\n",
       "      <th>14</th>\n",
       "      <td>001b0bf9</td>\n",
       "      <td>1</td>\n",
       "      <td>142</td>\n",
       "      <td>1</td>\n",
       "      <td>0</td>\n",
       "      <td>7</td>\n",
       "      <td>7</td>\n",
       "      <td>7</td>\n",
       "      <td>0</td>\n",
       "      <td>0</td>\n",
       "      <td>2</td>\n",
       "      <td>2</td>\n",
       "      <td>0</td>\n",
       "    </tr>\n",
       "  </tbody>\n",
       "</table>\n",
       "</div>"
      ],
      "text/plain": [
       "      person  dias_distintos  ultima_visita  modelos_distintos_vistos  \\\n",
       "0   0008ed71               1            137                         3   \n",
       "4   000c79fe               1            149                         1   \n",
       "10  001802e4               1            151                         2   \n",
       "12  0019e639               9             28                        26   \n",
       "14  001b0bf9               1            142                         1   \n",
       "\n",
       "    busqueda_celular  total_visitas_usuario  visitas_ultimo_mes  \\\n",
       "0                  0                      6                   6   \n",
       "4                  9                     17                  17   \n",
       "10                 4                     19                  19   \n",
       "12                 0                    471                 290   \n",
       "14                 0                      7                   7   \n",
       "\n",
       "    visitas_ultimos_15  visitas_ultima_semana  visitas_ultimos_3  \\\n",
       "0                    6                      0                  0   \n",
       "4                   17                     17                 17   \n",
       "10                  19                     19                 19   \n",
       "12                 136                      0                  0   \n",
       "14                   7                      0                  0   \n",
       "\n",
       "    total_checkout  checkouts_ultimo_mes  label  \n",
       "0                3                     3      0  \n",
       "4                1                     1      0  \n",
       "10               1                     1      0  \n",
       "12              15                     4      0  \n",
       "14               2                     2      0  "
      ]
     },
     "execution_count": 12,
     "metadata": {},
     "output_type": "execute_result"
    }
   ],
   "source": [
    "modelo.drop(modelo[modelo['label'].isnull()].index,inplace=True)\n",
    "modelo['label']=modelo['label'].astype(int)\n",
    "modelo.head()"
   ]
  },
  {
   "cell_type": "code",
   "execution_count": 13,
   "metadata": {},
   "outputs": [
    {
     "data": {
      "text/plain": [
       "(980, 18434)"
      ]
     },
     "execution_count": 13,
     "metadata": {},
     "output_type": "execute_result"
    }
   ],
   "source": [
    "len(modelo[modelo['label']==1]),len(modelo[modelo['label']==0]) "
   ]
  },
  {
   "cell_type": "code",
   "execution_count": 14,
   "metadata": {},
   "outputs": [
    {
     "data": {
      "text/plain": [
       "(5.047903574739879, 94.95209642526012)"
      ]
     },
     "execution_count": 14,
     "metadata": {},
     "output_type": "execute_result"
    }
   ],
   "source": [
    "len(modelo[modelo['label']==1])*100/len(modelo['label']),len(modelo[modelo['label']==0])*100/len(modelo['label'])"
   ]
  },
  {
   "cell_type": "code",
   "execution_count": 15,
   "metadata": {},
   "outputs": [
    {
     "data": {
      "text/html": [
       "<div>\n",
       "<style scoped>\n",
       "    .dataframe tbody tr th:only-of-type {\n",
       "        vertical-align: middle;\n",
       "    }\n",
       "\n",
       "    .dataframe tbody tr th {\n",
       "        vertical-align: top;\n",
       "    }\n",
       "\n",
       "    .dataframe thead th {\n",
       "        text-align: right;\n",
       "    }\n",
       "</style>\n",
       "<table border=\"1\" class=\"dataframe\">\n",
       "  <thead>\n",
       "    <tr style=\"text-align: right;\">\n",
       "      <th></th>\n",
       "      <th>person</th>\n",
       "      <th>dias_distintos</th>\n",
       "      <th>ultima_visita</th>\n",
       "      <th>modelos_distintos_vistos</th>\n",
       "      <th>busqueda_celular</th>\n",
       "      <th>total_visitas_usuario</th>\n",
       "      <th>visitas_ultimo_mes</th>\n",
       "      <th>visitas_ultimos_15</th>\n",
       "      <th>visitas_ultima_semana</th>\n",
       "      <th>visitas_ultimos_3</th>\n",
       "      <th>total_checkout</th>\n",
       "      <th>checkouts_ultimo_mes</th>\n",
       "      <th>label</th>\n",
       "    </tr>\n",
       "  </thead>\n",
       "  <tbody>\n",
       "    <tr>\n",
       "      <th>31</th>\n",
       "      <td>003476c0</td>\n",
       "      <td>1</td>\n",
       "      <td>44</td>\n",
       "      <td>2</td>\n",
       "      <td>0</td>\n",
       "      <td>43</td>\n",
       "      <td>14</td>\n",
       "      <td>0</td>\n",
       "      <td>0</td>\n",
       "      <td>0</td>\n",
       "      <td>0</td>\n",
       "      <td>0</td>\n",
       "      <td>1</td>\n",
       "    </tr>\n",
       "    <tr>\n",
       "      <th>38</th>\n",
       "      <td>003d4cac</td>\n",
       "      <td>0</td>\n",
       "      <td>82</td>\n",
       "      <td>2</td>\n",
       "      <td>0</td>\n",
       "      <td>8</td>\n",
       "      <td>0</td>\n",
       "      <td>0</td>\n",
       "      <td>0</td>\n",
       "      <td>0</td>\n",
       "      <td>1</td>\n",
       "      <td>0</td>\n",
       "      <td>1</td>\n",
       "    </tr>\n",
       "    <tr>\n",
       "      <th>39</th>\n",
       "      <td>003dd965</td>\n",
       "      <td>1</td>\n",
       "      <td>136</td>\n",
       "      <td>0</td>\n",
       "      <td>0</td>\n",
       "      <td>5</td>\n",
       "      <td>5</td>\n",
       "      <td>5</td>\n",
       "      <td>0</td>\n",
       "      <td>0</td>\n",
       "      <td>0</td>\n",
       "      <td>0</td>\n",
       "      <td>1</td>\n",
       "    </tr>\n",
       "    <tr>\n",
       "      <th>43</th>\n",
       "      <td>0042421c</td>\n",
       "      <td>0</td>\n",
       "      <td>61</td>\n",
       "      <td>5</td>\n",
       "      <td>0</td>\n",
       "      <td>22</td>\n",
       "      <td>0</td>\n",
       "      <td>0</td>\n",
       "      <td>0</td>\n",
       "      <td>0</td>\n",
       "      <td>0</td>\n",
       "      <td>0</td>\n",
       "      <td>1</td>\n",
       "    </tr>\n",
       "    <tr>\n",
       "      <th>57</th>\n",
       "      <td>006671fd</td>\n",
       "      <td>0</td>\n",
       "      <td>118</td>\n",
       "      <td>5</td>\n",
       "      <td>0</td>\n",
       "      <td>18</td>\n",
       "      <td>0</td>\n",
       "      <td>0</td>\n",
       "      <td>0</td>\n",
       "      <td>0</td>\n",
       "      <td>0</td>\n",
       "      <td>0</td>\n",
       "      <td>1</td>\n",
       "    </tr>\n",
       "  </tbody>\n",
       "</table>\n",
       "</div>"
      ],
      "text/plain": [
       "      person  dias_distintos  ultima_visita  modelos_distintos_vistos  \\\n",
       "31  003476c0               1             44                         2   \n",
       "38  003d4cac               0             82                         2   \n",
       "39  003dd965               1            136                         0   \n",
       "43  0042421c               0             61                         5   \n",
       "57  006671fd               0            118                         5   \n",
       "\n",
       "    busqueda_celular  total_visitas_usuario  visitas_ultimo_mes  \\\n",
       "31                 0                     43                  14   \n",
       "38                 0                      8                   0   \n",
       "39                 0                      5                   5   \n",
       "43                 0                     22                   0   \n",
       "57                 0                     18                   0   \n",
       "\n",
       "    visitas_ultimos_15  visitas_ultima_semana  visitas_ultimos_3  \\\n",
       "31                   0                      0                  0   \n",
       "38                   0                      0                  0   \n",
       "39                   5                      0                  0   \n",
       "43                   0                      0                  0   \n",
       "57                   0                      0                  0   \n",
       "\n",
       "    total_checkout  checkouts_ultimo_mes  label  \n",
       "31               0                     0      1  \n",
       "38               1                     0      1  \n",
       "39               0                     0      1  \n",
       "43               0                     0      1  \n",
       "57               0                     0      1  "
      ]
     },
     "execution_count": 15,
     "metadata": {},
     "output_type": "execute_result"
    }
   ],
   "source": [
    "modelo[modelo['label']==1].head()"
   ]
  },
  {
   "cell_type": "code",
   "execution_count": 16,
   "metadata": {},
   "outputs": [
    {
     "data": {
      "text/html": [
       "<div>\n",
       "<style scoped>\n",
       "    .dataframe tbody tr th:only-of-type {\n",
       "        vertical-align: middle;\n",
       "    }\n",
       "\n",
       "    .dataframe tbody tr th {\n",
       "        vertical-align: top;\n",
       "    }\n",
       "\n",
       "    .dataframe thead th {\n",
       "        text-align: right;\n",
       "    }\n",
       "</style>\n",
       "<table border=\"1\" class=\"dataframe\">\n",
       "  <thead>\n",
       "    <tr style=\"text-align: right;\">\n",
       "      <th></th>\n",
       "      <th>person</th>\n",
       "      <th>dias_distintos</th>\n",
       "      <th>ultima_visita</th>\n",
       "      <th>modelos_distintos_vistos</th>\n",
       "      <th>busqueda_celular</th>\n",
       "      <th>total_visitas_usuario</th>\n",
       "      <th>visitas_ultimo_mes</th>\n",
       "      <th>visitas_ultimos_15</th>\n",
       "      <th>visitas_ultima_semana</th>\n",
       "      <th>visitas_ultimos_3</th>\n",
       "      <th>total_checkout</th>\n",
       "      <th>checkouts_ultimo_mes</th>\n",
       "      <th>label</th>\n",
       "    </tr>\n",
       "  </thead>\n",
       "  <tbody>\n",
       "    <tr>\n",
       "      <th>0</th>\n",
       "      <td>0008ed71</td>\n",
       "      <td>1</td>\n",
       "      <td>137</td>\n",
       "      <td>3</td>\n",
       "      <td>0</td>\n",
       "      <td>6</td>\n",
       "      <td>6</td>\n",
       "      <td>6</td>\n",
       "      <td>0</td>\n",
       "      <td>0</td>\n",
       "      <td>3</td>\n",
       "      <td>3</td>\n",
       "      <td>0</td>\n",
       "    </tr>\n",
       "    <tr>\n",
       "      <th>4</th>\n",
       "      <td>000c79fe</td>\n",
       "      <td>1</td>\n",
       "      <td>149</td>\n",
       "      <td>1</td>\n",
       "      <td>9</td>\n",
       "      <td>17</td>\n",
       "      <td>17</td>\n",
       "      <td>17</td>\n",
       "      <td>17</td>\n",
       "      <td>17</td>\n",
       "      <td>1</td>\n",
       "      <td>1</td>\n",
       "      <td>0</td>\n",
       "    </tr>\n",
       "    <tr>\n",
       "      <th>10</th>\n",
       "      <td>001802e4</td>\n",
       "      <td>1</td>\n",
       "      <td>151</td>\n",
       "      <td>2</td>\n",
       "      <td>4</td>\n",
       "      <td>19</td>\n",
       "      <td>19</td>\n",
       "      <td>19</td>\n",
       "      <td>19</td>\n",
       "      <td>19</td>\n",
       "      <td>1</td>\n",
       "      <td>1</td>\n",
       "      <td>0</td>\n",
       "    </tr>\n",
       "    <tr>\n",
       "      <th>12</th>\n",
       "      <td>0019e639</td>\n",
       "      <td>9</td>\n",
       "      <td>28</td>\n",
       "      <td>26</td>\n",
       "      <td>0</td>\n",
       "      <td>471</td>\n",
       "      <td>290</td>\n",
       "      <td>136</td>\n",
       "      <td>0</td>\n",
       "      <td>0</td>\n",
       "      <td>15</td>\n",
       "      <td>4</td>\n",
       "      <td>0</td>\n",
       "    </tr>\n",
       "    <tr>\n",
       "      <th>14</th>\n",
       "      <td>001b0bf9</td>\n",
       "      <td>1</td>\n",
       "      <td>142</td>\n",
       "      <td>1</td>\n",
       "      <td>0</td>\n",
       "      <td>7</td>\n",
       "      <td>7</td>\n",
       "      <td>7</td>\n",
       "      <td>0</td>\n",
       "      <td>0</td>\n",
       "      <td>2</td>\n",
       "      <td>2</td>\n",
       "      <td>0</td>\n",
       "    </tr>\n",
       "  </tbody>\n",
       "</table>\n",
       "</div>"
      ],
      "text/plain": [
       "      person  dias_distintos  ultima_visita  modelos_distintos_vistos  \\\n",
       "0   0008ed71               1            137                         3   \n",
       "4   000c79fe               1            149                         1   \n",
       "10  001802e4               1            151                         2   \n",
       "12  0019e639               9             28                        26   \n",
       "14  001b0bf9               1            142                         1   \n",
       "\n",
       "    busqueda_celular  total_visitas_usuario  visitas_ultimo_mes  \\\n",
       "0                  0                      6                   6   \n",
       "4                  9                     17                  17   \n",
       "10                 4                     19                  19   \n",
       "12                 0                    471                 290   \n",
       "14                 0                      7                   7   \n",
       "\n",
       "    visitas_ultimos_15  visitas_ultima_semana  visitas_ultimos_3  \\\n",
       "0                    6                      0                  0   \n",
       "4                   17                     17                 17   \n",
       "10                  19                     19                 19   \n",
       "12                 136                      0                  0   \n",
       "14                   7                      0                  0   \n",
       "\n",
       "    total_checkout  checkouts_ultimo_mes  label  \n",
       "0                3                     3      0  \n",
       "4                1                     1      0  \n",
       "10               1                     1      0  \n",
       "12              15                     4      0  \n",
       "14               2                     2      0  "
      ]
     },
     "execution_count": 16,
     "metadata": {},
     "output_type": "execute_result"
    }
   ],
   "source": [
    "modelo[modelo['label']==0].head()"
   ]
  },
  {
   "cell_type": "code",
   "execution_count": 17,
   "metadata": {},
   "outputs": [
    {
     "data": {
      "text/plain": [
       "dias_distintos               0.600485\n",
       "ultima_visita              -20.271700\n",
       "modelos_distintos_vistos     3.446072\n",
       "busqueda_celular             0.586515\n",
       "total_visitas_usuario       43.553997\n",
       "visitas_ultimo_mes          16.661781\n",
       "visitas_ultimos_15           9.752915\n",
       "visitas_ultima_semana       10.056608\n",
       "visitas_ultimos_3            8.237521\n",
       "total_checkout               0.165994\n",
       "checkouts_ultimo_mes        -0.411831\n",
       "label                        1.000000\n",
       "dtype: float64"
      ]
     },
     "execution_count": 17,
     "metadata": {},
     "output_type": "execute_result"
    }
   ],
   "source": [
    "modelo[modelo['label']==1].mean()-modelo[modelo['label']==0].mean()"
   ]
  },
  {
   "cell_type": "markdown",
   "metadata": {},
   "source": [
    "## MACHINE LEARNING"
   ]
  },
  {
   "cell_type": "code",
   "execution_count": 18,
   "metadata": {},
   "outputs": [],
   "source": [
    "##Ahora empieza ML\n",
    "\n",
    "from sklearn.model_selection import train_test_split\n",
    "from sklearn.metrics import accuracy_score\n",
    "from sklearn import metrics\n",
    "from sklearn.metrics import f1_score,precision_score,recall_score,roc_auc_score\n",
    "from sklearn.model_selection import GridSearchCV"
   ]
  },
  {
   "cell_type": "code",
   "execution_count": 19,
   "metadata": {},
   "outputs": [],
   "source": [
    "#Agarro 250 casos que compraron ,y 1250 que no compraron , y armo un test aparte\n",
    "from sklearn.utils import shuffle\n",
    "\n",
    "df1=modelo.loc[modelo['label']==1]\n",
    "df1=shuffle(df1)\n",
    "df1=df1.iloc[:250]\n",
    "modelo.drop(df1.index,inplace=True)\n",
    "df2=modelo.loc[modelo['label']==0]\n",
    "df2=shuffle(df2)\n",
    "df2=df2.iloc[:1250]\n",
    "modelo.drop(df2.index,inplace=True)\n",
    "df=df1.append(df2, ignore_index=True)\n",
    "df = shuffle(df)\n",
    "xtest=df.drop(['person','label'], axis=1)\n",
    "ytest=df['label']"
   ]
  },
  {
   "cell_type": "markdown",
   "metadata": {},
   "source": [
    "## Resample"
   ]
  },
  {
   "cell_type": "code",
   "execution_count": 20,
   "metadata": {},
   "outputs": [],
   "source": [
    "from sklearn.utils import resample\n",
    "df_minority_upsampled = resample(modelo[modelo['label']==1], \n",
    "                                 replace=True,     # sample with replacement\n",
    "                                 n_samples=17184,    # to match majority class\n",
    "                                 random_state=123) # reproducible results\n",
    "modelo = pd.concat([modelo[modelo['label']==0], df_minority_upsampled])"
   ]
  },
  {
   "cell_type": "code",
   "execution_count": 21,
   "metadata": {},
   "outputs": [],
   "source": [
    "X = modelo.drop(['person','label'], axis=1)\n",
    "y = modelo['label']"
   ]
  },
  {
   "cell_type": "code",
   "execution_count": 22,
   "metadata": {},
   "outputs": [],
   "source": [
    "X_train, X_test, y_train, y_test = train_test_split(X, y,test_size=0.05) "
   ]
  },
  {
   "cell_type": "code",
   "execution_count": 23,
   "metadata": {},
   "outputs": [
    {
     "data": {
      "text/plain": [
       "(32649, 1719, 32649, 1719)"
      ]
     },
     "execution_count": 23,
     "metadata": {},
     "output_type": "execute_result"
    }
   ],
   "source": [
    "len(X_train),len(X_test),len(y_train),len(y_test)"
   ]
  },
  {
   "cell_type": "code",
   "execution_count": 24,
   "metadata": {},
   "outputs": [
    {
     "data": {
      "text/html": [
       "<div>\n",
       "<style scoped>\n",
       "    .dataframe tbody tr th:only-of-type {\n",
       "        vertical-align: middle;\n",
       "    }\n",
       "\n",
       "    .dataframe tbody tr th {\n",
       "        vertical-align: top;\n",
       "    }\n",
       "\n",
       "    .dataframe thead th {\n",
       "        text-align: right;\n",
       "    }\n",
       "</style>\n",
       "<table border=\"1\" class=\"dataframe\">\n",
       "  <thead>\n",
       "    <tr style=\"text-align: right;\">\n",
       "      <th></th>\n",
       "      <th>dias_distintos</th>\n",
       "      <th>ultima_visita</th>\n",
       "      <th>modelos_distintos_vistos</th>\n",
       "      <th>busqueda_celular</th>\n",
       "      <th>total_visitas_usuario</th>\n",
       "      <th>visitas_ultimo_mes</th>\n",
       "      <th>visitas_ultimos_15</th>\n",
       "      <th>visitas_ultima_semana</th>\n",
       "      <th>visitas_ultimos_3</th>\n",
       "      <th>total_checkout</th>\n",
       "      <th>checkouts_ultimo_mes</th>\n",
       "    </tr>\n",
       "  </thead>\n",
       "  <tbody>\n",
       "    <tr>\n",
       "      <th>13869</th>\n",
       "      <td>2</td>\n",
       "      <td>148</td>\n",
       "      <td>2</td>\n",
       "      <td>0</td>\n",
       "      <td>16</td>\n",
       "      <td>16</td>\n",
       "      <td>16</td>\n",
       "      <td>16</td>\n",
       "      <td>16</td>\n",
       "      <td>0</td>\n",
       "      <td>0</td>\n",
       "    </tr>\n",
       "    <tr>\n",
       "      <th>6733</th>\n",
       "      <td>2</td>\n",
       "      <td>139</td>\n",
       "      <td>1</td>\n",
       "      <td>0</td>\n",
       "      <td>18</td>\n",
       "      <td>18</td>\n",
       "      <td>18</td>\n",
       "      <td>11</td>\n",
       "      <td>11</td>\n",
       "      <td>0</td>\n",
       "      <td>0</td>\n",
       "    </tr>\n",
       "    <tr>\n",
       "      <th>22450</th>\n",
       "      <td>19</td>\n",
       "      <td>128</td>\n",
       "      <td>3</td>\n",
       "      <td>0</td>\n",
       "      <td>202</td>\n",
       "      <td>202</td>\n",
       "      <td>96</td>\n",
       "      <td>21</td>\n",
       "      <td>9</td>\n",
       "      <td>9</td>\n",
       "      <td>9</td>\n",
       "    </tr>\n",
       "    <tr>\n",
       "      <th>4276</th>\n",
       "      <td>4</td>\n",
       "      <td>142</td>\n",
       "      <td>11</td>\n",
       "      <td>2</td>\n",
       "      <td>174</td>\n",
       "      <td>174</td>\n",
       "      <td>174</td>\n",
       "      <td>159</td>\n",
       "      <td>142</td>\n",
       "      <td>5</td>\n",
       "      <td>5</td>\n",
       "    </tr>\n",
       "    <tr>\n",
       "      <th>26513</th>\n",
       "      <td>1</td>\n",
       "      <td>151</td>\n",
       "      <td>3</td>\n",
       "      <td>0</td>\n",
       "      <td>16</td>\n",
       "      <td>16</td>\n",
       "      <td>16</td>\n",
       "      <td>16</td>\n",
       "      <td>16</td>\n",
       "      <td>1</td>\n",
       "      <td>1</td>\n",
       "    </tr>\n",
       "  </tbody>\n",
       "</table>\n",
       "</div>"
      ],
      "text/plain": [
       "       dias_distintos  ultima_visita  modelos_distintos_vistos  \\\n",
       "13869               2            148                         2   \n",
       "6733                2            139                         1   \n",
       "22450              19            128                         3   \n",
       "4276                4            142                        11   \n",
       "26513               1            151                         3   \n",
       "\n",
       "       busqueda_celular  total_visitas_usuario  visitas_ultimo_mes  \\\n",
       "13869                 0                     16                  16   \n",
       "6733                  0                     18                  18   \n",
       "22450                 0                    202                 202   \n",
       "4276                  2                    174                 174   \n",
       "26513                 0                     16                  16   \n",
       "\n",
       "       visitas_ultimos_15  visitas_ultima_semana  visitas_ultimos_3  \\\n",
       "13869                  16                     16                 16   \n",
       "6733                   18                     11                 11   \n",
       "22450                  96                     21                  9   \n",
       "4276                  174                    159                142   \n",
       "26513                  16                     16                 16   \n",
       "\n",
       "       total_checkout  checkouts_ultimo_mes  \n",
       "13869               0                     0  \n",
       "6733                0                     0  \n",
       "22450               9                     9  \n",
       "4276                5                     5  \n",
       "26513               1                     1  "
      ]
     },
     "execution_count": 24,
     "metadata": {},
     "output_type": "execute_result"
    }
   ],
   "source": [
    "X_train.head()"
   ]
  },
  {
   "cell_type": "code",
   "execution_count": 25,
   "metadata": {},
   "outputs": [
    {
     "data": {
      "text/plain": [
       "13869    1\n",
       "6733     1\n",
       "22450    1\n",
       "4276     1\n",
       "26513    0\n",
       "Name: label, dtype: int32"
      ]
     },
     "execution_count": 25,
     "metadata": {},
     "output_type": "execute_result"
    }
   ],
   "source": [
    "y_train.head()"
   ]
  },
  {
   "cell_type": "markdown",
   "metadata": {},
   "source": [
    "## Algoritmos de clasificación"
   ]
  },
  {
   "cell_type": "markdown",
   "metadata": {},
   "source": [
    "## KNN"
   ]
  },
  {
   "cell_type": "code",
   "execution_count": 26,
   "metadata": {},
   "outputs": [
    {
     "data": {
      "text/plain": [
       "KNeighborsClassifier(algorithm='brute', leaf_size=30, metric='minkowski',\n",
       "           metric_params=None, n_jobs=-1, n_neighbors=5, p=1,\n",
       "           weights='uniform')"
      ]
     },
     "execution_count": 26,
     "metadata": {},
     "output_type": "execute_result"
    }
   ],
   "source": [
    "from sklearn.neighbors import KNeighborsClassifier\n",
    "my_classifier= KNeighborsClassifier(algorithm='brute',p=1,n_jobs=-1)\n",
    "my_classifier.fit(X_train,y_train)"
   ]
  },
  {
   "cell_type": "code",
   "execution_count": 27,
   "metadata": {},
   "outputs": [
    {
     "data": {
      "text/plain": [
       "array([[1107,  143],\n",
       "       [ 181,   69]], dtype=int64)"
      ]
     },
     "execution_count": 27,
     "metadata": {},
     "output_type": "execute_result"
    }
   ],
   "source": [
    "metrics.confusion_matrix(ytest, my_classifier.predict(xtest))"
   ]
  },
  {
   "cell_type": "markdown",
   "metadata": {},
   "source": [
    "## DECISION TREE"
   ]
  },
  {
   "cell_type": "code",
   "execution_count": 28,
   "metadata": {},
   "outputs": [
    {
     "data": {
      "text/plain": [
       "DecisionTreeClassifier(class_weight=None, criterion='gini', max_depth=None,\n",
       "            max_features=None, max_leaf_nodes=None,\n",
       "            min_impurity_decrease=0.0, min_impurity_split=None,\n",
       "            min_samples_leaf=1, min_samples_split=2,\n",
       "            min_weight_fraction_leaf=0.0, presort=False, random_state=None,\n",
       "            splitter='best')"
      ]
     },
     "execution_count": 28,
     "metadata": {},
     "output_type": "execute_result"
    }
   ],
   "source": [
    "from sklearn import tree\n",
    "my_classifier2= tree.DecisionTreeClassifier()\n",
    "my_classifier2.fit(X_train,y_train)"
   ]
  },
  {
   "cell_type": "code",
   "execution_count": 29,
   "metadata": {},
   "outputs": [
    {
     "data": {
      "text/plain": [
       "array([[1189,   61],\n",
       "       [ 218,   32]], dtype=int64)"
      ]
     },
     "execution_count": 29,
     "metadata": {},
     "output_type": "execute_result"
    }
   ],
   "source": [
    "metrics.confusion_matrix(ytest, my_classifier2.predict(xtest))"
   ]
  },
  {
   "cell_type": "markdown",
   "metadata": {},
   "source": [
    "## RANDOM FOREST"
   ]
  },
  {
   "cell_type": "code",
   "execution_count": 30,
   "metadata": {},
   "outputs": [
    {
     "data": {
      "text/plain": [
       "RandomForestClassifier(bootstrap=True, class_weight=None, criterion='gini',\n",
       "            max_depth=8, max_features='auto', max_leaf_nodes=None,\n",
       "            min_impurity_decrease=0.0, min_impurity_split=None,\n",
       "            min_samples_leaf=1, min_samples_split=2,\n",
       "            min_weight_fraction_leaf=0.0, n_estimators=500, n_jobs=-1,\n",
       "            oob_score=False, random_state=None, verbose=0,\n",
       "            warm_start=False)"
      ]
     },
     "execution_count": 30,
     "metadata": {},
     "output_type": "execute_result"
    }
   ],
   "source": [
    "from sklearn.ensemble import RandomForestClassifier #a mayor depth, mas precisos los 0, menos los 1,class weight cambia mucho\n",
    "my_classifier3 = RandomForestClassifier(n_estimators=500,n_jobs=-1,criterion= 'gini',max_depth= 8 ,max_features= 'auto')\n",
    "my_classifier3.fit(X_train,y_train)"
   ]
  },
  {
   "cell_type": "code",
   "execution_count": 31,
   "metadata": {},
   "outputs": [
    {
     "data": {
      "text/plain": [
       "array([[1026,  224],\n",
       "       [  77,  173]], dtype=int64)"
      ]
     },
     "execution_count": 31,
     "metadata": {},
     "output_type": "execute_result"
    }
   ],
   "source": [
    "metrics.confusion_matrix(ytest, my_classifier3.predict(xtest))"
   ]
  },
  {
   "cell_type": "markdown",
   "metadata": {},
   "source": [
    "## Logistic regression"
   ]
  },
  {
   "cell_type": "code",
   "execution_count": 32,
   "metadata": {},
   "outputs": [
    {
     "data": {
      "text/plain": [
       "LogisticRegression(C=0.001, class_weight=None, dual=False, fit_intercept=True,\n",
       "          intercept_scaling=1, max_iter=100, multi_class='ovr', n_jobs=1,\n",
       "          penalty='l2', random_state=None, solver='liblinear', tol=0.0001,\n",
       "          verbose=0, warm_start=False)"
      ]
     },
     "execution_count": 32,
     "metadata": {},
     "output_type": "execute_result"
    }
   ],
   "source": [
    "from sklearn.linear_model import LogisticRegression\n",
    "my_classifier4 = LogisticRegression(C=0.001)\n",
    "my_classifier4.fit(X_train,y_train)"
   ]
  },
  {
   "cell_type": "code",
   "execution_count": 33,
   "metadata": {},
   "outputs": [
    {
     "data": {
      "text/plain": [
       "array([[1033,  217],\n",
       "       [ 136,  114]], dtype=int64)"
      ]
     },
     "execution_count": 33,
     "metadata": {},
     "output_type": "execute_result"
    }
   ],
   "source": [
    "metrics.confusion_matrix(ytest, my_classifier4.predict(xtest))"
   ]
  },
  {
   "cell_type": "markdown",
   "metadata": {},
   "source": [
    "## Neuronal Network"
   ]
  },
  {
   "cell_type": "code",
   "execution_count": 34,
   "metadata": {},
   "outputs": [
    {
     "data": {
      "text/plain": [
       "MLPClassifier(activation='relu', alpha=0.0001, batch_size='auto', beta_1=0.9,\n",
       "       beta_2=0.999, early_stopping=False, epsilon=1e-08,\n",
       "       hidden_layer_sizes=(100, 50, 100), learning_rate='constant',\n",
       "       learning_rate_init=0.001, max_iter=800000, momentum=0.9,\n",
       "       nesterovs_momentum=True, power_t=0.5, random_state=None,\n",
       "       shuffle=True, solver='adam', tol=0.0001, validation_fraction=0.1,\n",
       "       verbose=False, warm_start=False)"
      ]
     },
     "execution_count": 34,
     "metadata": {},
     "output_type": "execute_result"
    }
   ],
   "source": [
    "from sklearn.neural_network import MLPClassifier\n",
    "my_classifier5 = MLPClassifier(hidden_layer_sizes=(100,50,100),max_iter=800000)\n",
    "my_classifier5.fit(X_train,y_train)"
   ]
  },
  {
   "cell_type": "code",
   "execution_count": 35,
   "metadata": {},
   "outputs": [
    {
     "data": {
      "text/plain": [
       "array([[1096,  154],\n",
       "       [ 129,  121]], dtype=int64)"
      ]
     },
     "execution_count": 35,
     "metadata": {},
     "output_type": "execute_result"
    }
   ],
   "source": [
    "metrics.confusion_matrix(ytest, my_classifier5.predict(xtest))"
   ]
  },
  {
   "cell_type": "markdown",
   "metadata": {},
   "source": [
    "## Naive Bayes"
   ]
  },
  {
   "cell_type": "code",
   "execution_count": 36,
   "metadata": {},
   "outputs": [
    {
     "data": {
      "text/plain": [
       "GaussianNB(priors=None)"
      ]
     },
     "execution_count": 36,
     "metadata": {},
     "output_type": "execute_result"
    }
   ],
   "source": [
    "from sklearn.naive_bayes import GaussianNB\n",
    "my_classifier6 = GaussianNB()\n",
    "my_classifier6.fit(X_train,y_train)"
   ]
  },
  {
   "cell_type": "code",
   "execution_count": 37,
   "metadata": {},
   "outputs": [
    {
     "data": {
      "text/plain": [
       "array([[1102,  148],\n",
       "       [ 186,   64]], dtype=int64)"
      ]
     },
     "execution_count": 37,
     "metadata": {},
     "output_type": "execute_result"
    }
   ],
   "source": [
    "metrics.confusion_matrix(ytest, my_classifier6.predict(xtest))"
   ]
  },
  {
   "cell_type": "markdown",
   "metadata": {},
   "source": [
    "## SVM"
   ]
  },
  {
   "cell_type": "code",
   "execution_count": 38,
   "metadata": {},
   "outputs": [
    {
     "data": {
      "text/plain": [
       "SVC(C=1.0, cache_size=200, class_weight=None, coef0=0.0,\n",
       "  decision_function_shape='ovr', degree=3, gamma='auto', kernel='rbf',\n",
       "  max_iter=-1, probability=False, random_state=None, shrinking=True,\n",
       "  tol=0.001, verbose=False)"
      ]
     },
     "execution_count": 38,
     "metadata": {},
     "output_type": "execute_result"
    }
   ],
   "source": [
    "from sklearn import svm\n",
    "my_classifier7 =svm.SVC()\n",
    "my_classifier7.fit(X_train,y_train)"
   ]
  },
  {
   "cell_type": "code",
   "execution_count": 39,
   "metadata": {},
   "outputs": [
    {
     "data": {
      "text/plain": [
       "array([[1200,   50],\n",
       "       [ 218,   32]], dtype=int64)"
      ]
     },
     "execution_count": 39,
     "metadata": {},
     "output_type": "execute_result"
    }
   ],
   "source": [
    "metrics.confusion_matrix(ytest, my_classifier7.predict(xtest))"
   ]
  },
  {
   "cell_type": "markdown",
   "metadata": {},
   "source": [
    "## AdaBoost"
   ]
  },
  {
   "cell_type": "code",
   "execution_count": 40,
   "metadata": {},
   "outputs": [
    {
     "data": {
      "text/plain": [
       "AdaBoostClassifier(algorithm='SAMME',\n",
       "          base_estimator=DecisionTreeClassifier(class_weight=None, criterion='gini', max_depth=1,\n",
       "            max_features=None, max_leaf_nodes=None,\n",
       "            min_impurity_decrease=0.0, min_impurity_split=None,\n",
       "            min_samples_leaf=1, min_samples_split=2,\n",
       "            min_weight_fraction_leaf=0.0, presort=False, random_state=None,\n",
       "            splitter='best'),\n",
       "          learning_rate=1, n_estimators=2000, random_state=42)"
      ]
     },
     "execution_count": 40,
     "metadata": {},
     "output_type": "execute_result"
    }
   ],
   "source": [
    "from sklearn.ensemble import AdaBoostClassifier\n",
    "my_classifier8 = AdaBoostClassifier(tree.DecisionTreeClassifier(max_depth=1), n_estimators=2000,algorithm=\"SAMME\", learning_rate=1, random_state=42)\n",
    "my_classifier8.fit(X_train,y_train)"
   ]
  },
  {
   "cell_type": "code",
   "execution_count": 41,
   "metadata": {},
   "outputs": [
    {
     "data": {
      "text/plain": [
       "array([[1001,  249],\n",
       "       [  56,  194]], dtype=int64)"
      ]
     },
     "execution_count": 41,
     "metadata": {},
     "output_type": "execute_result"
    }
   ],
   "source": [
    "metrics.confusion_matrix(ytest, my_classifier8.predict(xtest))"
   ]
  },
  {
   "cell_type": "markdown",
   "metadata": {},
   "source": [
    "## XGBOOST"
   ]
  },
  {
   "cell_type": "code",
   "execution_count": 42,
   "metadata": {},
   "outputs": [
    {
     "data": {
      "text/plain": [
       "XGBClassifier(alpha=10, base_score=0.5, booster='gbtree', colsample_bylevel=1,\n",
       "       colsample_bytree=0.3, gamma=0, learning_rate=0.1, max_delta_step=0,\n",
       "       max_depth=5, min_child_weight=1, missing=None, n_estimators=10,\n",
       "       n_jobs=1, nthread=None, objective='reg:linear', random_state=0,\n",
       "       reg_alpha=0, reg_lambda=1, scale_pos_weight=1, seed=None,\n",
       "       silent=True, subsample=1)"
      ]
     },
     "execution_count": 42,
     "metadata": {},
     "output_type": "execute_result"
    }
   ],
   "source": [
    "import xgboost as xgb\n",
    "my_classifier9 = xgb.XGBClassifier(objective ='reg:linear', colsample_bytree = 0.3, learning_rate = 0.1,max_depth = 5, alpha = 10, n_estimators = 10)\n",
    "my_classifier9.fit(X_train,y_train)"
   ]
  },
  {
   "cell_type": "code",
   "execution_count": 43,
   "metadata": {},
   "outputs": [
    {
     "name": "stderr",
     "output_type": "stream",
     "text": [
      "d:\\programas\\python\\lib\\site-packages\\sklearn\\preprocessing\\label.py:151: DeprecationWarning: The truth value of an empty array is ambiguous. Returning False, but in future this will result in an error. Use `array.size > 0` to check that an array is not empty.\n",
      "  if diff:\n"
     ]
    },
    {
     "data": {
      "text/plain": [
       "array([[950, 300],\n",
       "       [ 56, 194]], dtype=int64)"
      ]
     },
     "execution_count": 43,
     "metadata": {},
     "output_type": "execute_result"
    }
   ],
   "source": [
    "metrics.confusion_matrix(ytest, my_classifier9.predict(xtest))"
   ]
  },
  {
   "cell_type": "markdown",
   "metadata": {},
   "source": [
    "## Voting Classifier"
   ]
  },
  {
   "cell_type": "code",
   "execution_count": 44,
   "metadata": {},
   "outputs": [
    {
     "name": "stderr",
     "output_type": "stream",
     "text": [
      "d:\\programas\\python\\lib\\site-packages\\sklearn\\preprocessing\\label.py:151: DeprecationWarning: The truth value of an empty array is ambiguous. Returning False, but in future this will result in an error. Use `array.size > 0` to check that an array is not empty.\n",
      "  if diff:\n"
     ]
    },
    {
     "data": {
      "text/plain": [
       "(0.798, 0.7764)"
      ]
     },
     "execution_count": 44,
     "metadata": {},
     "output_type": "execute_result"
    }
   ],
   "source": [
    "from sklearn.ensemble import VotingClassifier\n",
    "vclf = VotingClassifier(estimators=[  ('RF', my_classifier3), ('ADA', my_classifier8),('XGB', my_classifier9)], voting='soft', n_jobs =-1)\n",
    "vclf = vclf.fit(X_train, y_train)\n",
    "predictions = vclf.predict(xtest)\n",
    "accuracy_score(ytest, predictions),roc_auc_score(ytest, predictions)"
   ]
  },
  {
   "cell_type": "code",
   "execution_count": 45,
   "metadata": {},
   "outputs": [
    {
     "data": {
      "text/plain": [
       "array([[1011,  239],\n",
       "       [  64,  186]], dtype=int64)"
      ]
     },
     "execution_count": 45,
     "metadata": {},
     "output_type": "execute_result"
    }
   ],
   "source": [
    "metrics.confusion_matrix(ytest, predictions)"
   ]
  },
  {
   "cell_type": "markdown",
   "metadata": {},
   "source": [
    "## Resultados"
   ]
  },
  {
   "cell_type": "code",
   "execution_count": 46,
   "metadata": {},
   "outputs": [
    {
     "name": "stderr",
     "output_type": "stream",
     "text": [
      "d:\\programas\\python\\lib\\site-packages\\sklearn\\preprocessing\\label.py:151: DeprecationWarning: The truth value of an empty array is ambiguous. Returning False, but in future this will result in an error. Use `array.size > 0` to check that an array is not empty.\n",
      "  if diff:\n",
      "d:\\programas\\python\\lib\\site-packages\\sklearn\\preprocessing\\label.py:151: DeprecationWarning: The truth value of an empty array is ambiguous. Returning False, but in future this will result in an error. Use `array.size > 0` to check that an array is not empty.\n",
      "  if diff:\n"
     ]
    },
    {
     "data": {
      "text/html": [
       "<div>\n",
       "<style scoped>\n",
       "    .dataframe tbody tr th:only-of-type {\n",
       "        vertical-align: middle;\n",
       "    }\n",
       "\n",
       "    .dataframe tbody tr th {\n",
       "        vertical-align: top;\n",
       "    }\n",
       "\n",
       "    .dataframe thead th {\n",
       "        text-align: right;\n",
       "    }\n",
       "</style>\n",
       "<table border=\"1\" class=\"dataframe\">\n",
       "  <thead>\n",
       "    <tr style=\"text-align: right;\">\n",
       "      <th></th>\n",
       "      <th>KNN</th>\n",
       "      <th>Decision Tree</th>\n",
       "      <th>Random Forest</th>\n",
       "      <th>Logistic regression</th>\n",
       "      <th>Neuronal Network</th>\n",
       "      <th>Naive Bayes</th>\n",
       "      <th>SVM</th>\n",
       "      <th>Ada boost</th>\n",
       "      <th>XGBOOST</th>\n",
       "      <th>VCLF</th>\n",
       "    </tr>\n",
       "    <tr>\n",
       "      <th>Metric</th>\n",
       "      <th></th>\n",
       "      <th></th>\n",
       "      <th></th>\n",
       "      <th></th>\n",
       "      <th></th>\n",
       "      <th></th>\n",
       "      <th></th>\n",
       "      <th></th>\n",
       "      <th></th>\n",
       "      <th></th>\n",
       "    </tr>\n",
       "  </thead>\n",
       "  <tbody>\n",
       "    <tr>\n",
       "      <th>Accuracy</th>\n",
       "      <td>0.784000</td>\n",
       "      <td>0.814000</td>\n",
       "      <td>0.799333</td>\n",
       "      <td>0.764667</td>\n",
       "      <td>0.811333</td>\n",
       "      <td>0.777333</td>\n",
       "      <td>0.821333</td>\n",
       "      <td>0.796667</td>\n",
       "      <td>0.762667</td>\n",
       "      <td>0.798000</td>\n",
       "    </tr>\n",
       "    <tr>\n",
       "      <th>F1 Score</th>\n",
       "      <td>0.776734</td>\n",
       "      <td>0.776927</td>\n",
       "      <td>0.815861</td>\n",
       "      <td>0.777131</td>\n",
       "      <td>0.814873</td>\n",
       "      <td>0.769843</td>\n",
       "      <td>0.781754</td>\n",
       "      <td>0.816475</td>\n",
       "      <td>0.788750</td>\n",
       "      <td>0.816583</td>\n",
       "    </tr>\n",
       "    <tr>\n",
       "      <th>Precision</th>\n",
       "      <td>0.770472</td>\n",
       "      <td>0.761565</td>\n",
       "      <td>0.847787</td>\n",
       "      <td>0.793786</td>\n",
       "      <td>0.818912</td>\n",
       "      <td>0.763306</td>\n",
       "      <td>0.770259</td>\n",
       "      <td>0.862170</td>\n",
       "      <td>0.852397</td>\n",
       "      <td>0.856662</td>\n",
       "    </tr>\n",
       "    <tr>\n",
       "      <th>Recall</th>\n",
       "      <td>0.784000</td>\n",
       "      <td>0.814000</td>\n",
       "      <td>0.799333</td>\n",
       "      <td>0.764667</td>\n",
       "      <td>0.811333</td>\n",
       "      <td>0.777333</td>\n",
       "      <td>0.821333</td>\n",
       "      <td>0.796667</td>\n",
       "      <td>0.762667</td>\n",
       "      <td>0.798000</td>\n",
       "    </tr>\n",
       "    <tr>\n",
       "      <th>ROC AUC Score</th>\n",
       "      <td>0.580800</td>\n",
       "      <td>0.539600</td>\n",
       "      <td>0.756400</td>\n",
       "      <td>0.641200</td>\n",
       "      <td>0.680400</td>\n",
       "      <td>0.568800</td>\n",
       "      <td>0.544000</td>\n",
       "      <td>0.788400</td>\n",
       "      <td>0.768000</td>\n",
       "      <td>0.776400</td>\n",
       "    </tr>\n",
       "    <tr>\n",
       "      <th>No aciertos 0</th>\n",
       "      <td>143.000000</td>\n",
       "      <td>61.000000</td>\n",
       "      <td>224.000000</td>\n",
       "      <td>217.000000</td>\n",
       "      <td>154.000000</td>\n",
       "      <td>148.000000</td>\n",
       "      <td>50.000000</td>\n",
       "      <td>249.000000</td>\n",
       "      <td>300.000000</td>\n",
       "      <td>239.000000</td>\n",
       "    </tr>\n",
       "    <tr>\n",
       "      <th>No aciertos 1</th>\n",
       "      <td>181.000000</td>\n",
       "      <td>218.000000</td>\n",
       "      <td>77.000000</td>\n",
       "      <td>136.000000</td>\n",
       "      <td>129.000000</td>\n",
       "      <td>186.000000</td>\n",
       "      <td>218.000000</td>\n",
       "      <td>56.000000</td>\n",
       "      <td>56.000000</td>\n",
       "      <td>64.000000</td>\n",
       "    </tr>\n",
       "    <tr>\n",
       "      <th>Aciertos 0</th>\n",
       "      <td>1107.000000</td>\n",
       "      <td>1189.000000</td>\n",
       "      <td>1026.000000</td>\n",
       "      <td>1033.000000</td>\n",
       "      <td>1096.000000</td>\n",
       "      <td>1102.000000</td>\n",
       "      <td>1200.000000</td>\n",
       "      <td>1001.000000</td>\n",
       "      <td>950.000000</td>\n",
       "      <td>1011.000000</td>\n",
       "    </tr>\n",
       "    <tr>\n",
       "      <th>Aciertos 1</th>\n",
       "      <td>69.000000</td>\n",
       "      <td>32.000000</td>\n",
       "      <td>173.000000</td>\n",
       "      <td>114.000000</td>\n",
       "      <td>121.000000</td>\n",
       "      <td>64.000000</td>\n",
       "      <td>32.000000</td>\n",
       "      <td>194.000000</td>\n",
       "      <td>194.000000</td>\n",
       "      <td>186.000000</td>\n",
       "    </tr>\n",
       "  </tbody>\n",
       "</table>\n",
       "</div>"
      ],
      "text/plain": [
       "                       KNN  Decision Tree  Random Forest  Logistic regression  \\\n",
       "Metric                                                                          \n",
       "Accuracy          0.784000       0.814000       0.799333             0.764667   \n",
       "F1 Score          0.776734       0.776927       0.815861             0.777131   \n",
       "Precision         0.770472       0.761565       0.847787             0.793786   \n",
       "Recall            0.784000       0.814000       0.799333             0.764667   \n",
       "ROC AUC Score     0.580800       0.539600       0.756400             0.641200   \n",
       "No aciertos 0   143.000000      61.000000     224.000000           217.000000   \n",
       "No aciertos 1   181.000000     218.000000      77.000000           136.000000   \n",
       "Aciertos 0     1107.000000    1189.000000    1026.000000          1033.000000   \n",
       "Aciertos 1       69.000000      32.000000     173.000000           114.000000   \n",
       "\n",
       "               Neuronal Network  Naive Bayes          SVM    Ada boost  \\\n",
       "Metric                                                                   \n",
       "Accuracy               0.811333     0.777333     0.821333     0.796667   \n",
       "F1 Score               0.814873     0.769843     0.781754     0.816475   \n",
       "Precision              0.818912     0.763306     0.770259     0.862170   \n",
       "Recall                 0.811333     0.777333     0.821333     0.796667   \n",
       "ROC AUC Score          0.680400     0.568800     0.544000     0.788400   \n",
       "No aciertos 0        154.000000   148.000000    50.000000   249.000000   \n",
       "No aciertos 1        129.000000   186.000000   218.000000    56.000000   \n",
       "Aciertos 0          1096.000000  1102.000000  1200.000000  1001.000000   \n",
       "Aciertos 1           121.000000    64.000000    32.000000   194.000000   \n",
       "\n",
       "                  XGBOOST         VCLF  \n",
       "Metric                                  \n",
       "Accuracy         0.762667     0.798000  \n",
       "F1 Score         0.788750     0.816583  \n",
       "Precision        0.852397     0.856662  \n",
       "Recall           0.762667     0.798000  \n",
       "ROC AUC Score    0.768000     0.776400  \n",
       "No aciertos 0  300.000000   239.000000  \n",
       "No aciertos 1   56.000000    64.000000  \n",
       "Aciertos 0     950.000000  1011.000000  \n",
       "Aciertos 1     194.000000   186.000000  "
      ]
     },
     "execution_count": 46,
     "metadata": {},
     "output_type": "execute_result"
    }
   ],
   "source": [
    "clasificadores={\"KNN\": my_classifier , \"Decision Tree\": my_classifier2, \"Random Forest\": my_classifier3, \"Logistic regression\": my_classifier4,\"Neuronal Network\":my_classifier5,\n",
    "                \"Naive Bayes\":my_classifier6, \"SVM\":my_classifier7,\"Ada boost\": my_classifier8, \"XGBOOST\":my_classifier9 , \"VCLF\":vclf}\n",
    "resultados={}\n",
    "for key,value in clasificadores.items():\n",
    "    prediction=value.predict(xtest)\n",
    "    matrix=metrics.confusion_matrix(ytest, prediction)\n",
    "    resultados[key]=[accuracy_score(ytest, prediction),f1_score(ytest, prediction, average='weighted'),precision_score(ytest, prediction, average='weighted'),recall_score(ytest, prediction, average='weighted'),\n",
    "    roc_auc_score(ytest, prediction),matrix[0][1],matrix[1][0],matrix[0][0],matrix[1][1]  ]\n",
    "resultados['Metric']=[\"Accuracy\",\"F1 Score\",\"Precision\",\"Recall\",\"ROC AUC Score\",\"No aciertos 0\",\"No aciertos 1\",\"Aciertos 0\",\"Aciertos 1\"]\n",
    "resultados= pd.DataFrame(resultados)\n",
    "resultados.set_index('Metric',inplace=True)\n",
    "resultados"
   ]
  },
  {
   "cell_type": "code",
   "execution_count": 47,
   "metadata": {},
   "outputs": [
    {
     "data": {
      "image/png": "[encoded data removed]",
      "text/plain": [
       "<Figure size 1728x720 with 1 Axes>"
      ]
     },
     "metadata": {},
     "output_type": "display_data"
    }
   ],
   "source": [
    "resultados.iloc[-1].plot(kind='bar',figsize=(24,10))\n",
    "plt.title(\"Aciertos compras\")\n",
    "plt.grid(axis='y')"
   ]
  },
  {
   "cell_type": "code",
   "execution_count": 48,
   "metadata": {},
   "outputs": [
    {
     "data": {
      "image/png": "[encoded data removed]",
      "text/plain": [
       "<Figure size 1728x720 with 1 Axes>"
      ]
     },
     "metadata": {},
     "output_type": "display_data"
    }
   ],
   "source": [
    "resultados.iloc[-2].plot(kind='bar',figsize=(24,10))\n",
    "plt.title(\"Aciertos NO compras\")\n",
    "plt.grid(axis='y')"
   ]
  },
  {
   "cell_type": "code",
   "execution_count": 49,
   "metadata": {},
   "outputs": [
    {
     "data": {
      "image/png": "[encoded data removed]",
      "text/plain": [
       "<Figure size 1728x720 with 1 Axes>"
      ]
     },
     "metadata": {},
     "output_type": "display_data"
    }
   ],
   "source": [
    "resultados.iloc[4].plot(kind='bar',figsize=(24,10))\n",
    "plt.title(\"ROC AUC Score\")\n",
    "plt.grid(axis='y')"
   ]
  },
  {
   "cell_type": "markdown",
   "metadata": {},
   "source": [
    "## KAGGLE PREDICTIONS"
   ]
  },
  {
   "cell_type": "code",
   "execution_count": 50,
   "metadata": {},
   "outputs": [],
   "source": [
    "kaggle= pd.read_csv('data/kaggle.csv',low_memory=False)"
   ]
  },
  {
   "cell_type": "code",
   "execution_count": 51,
   "metadata": {},
   "outputs": [],
   "source": [
    "kaggle=pd.merge(kaggle, a_predecir, on='person', how='inner')"
   ]
  },
  {
   "cell_type": "code",
   "execution_count": 52,
   "metadata": {},
   "outputs": [
    {
     "data": {
      "text/html": [
       "<div>\n",
       "<style scoped>\n",
       "    .dataframe tbody tr th:only-of-type {\n",
       "        vertical-align: middle;\n",
       "    }\n",
       "\n",
       "    .dataframe tbody tr th {\n",
       "        vertical-align: top;\n",
       "    }\n",
       "\n",
       "    .dataframe thead th {\n",
       "        text-align: right;\n",
       "    }\n",
       "</style>\n",
       "<table border=\"1\" class=\"dataframe\">\n",
       "  <thead>\n",
       "    <tr style=\"text-align: right;\">\n",
       "      <th></th>\n",
       "      <th>person</th>\n",
       "      <th>dias_distintos</th>\n",
       "      <th>ultima_visita</th>\n",
       "      <th>modelos_distintos_vistos</th>\n",
       "      <th>busqueda_celular</th>\n",
       "      <th>total_visitas_usuario</th>\n",
       "      <th>visitas_ultimo_mes</th>\n",
       "      <th>visitas_ultimos_15</th>\n",
       "      <th>visitas_ultima_semana</th>\n",
       "      <th>visitas_ultimos_3</th>\n",
       "      <th>total_checkout</th>\n",
       "      <th>checkouts_ultimo_mes</th>\n",
       "      <th>label</th>\n",
       "    </tr>\n",
       "  </thead>\n",
       "  <tbody>\n",
       "    <tr>\n",
       "      <th>0</th>\n",
       "      <td>4886f805</td>\n",
       "      <td>1</td>\n",
       "      <td>138</td>\n",
       "      <td>1</td>\n",
       "      <td>0</td>\n",
       "      <td>9</td>\n",
       "      <td>9</td>\n",
       "      <td>9</td>\n",
       "      <td>0</td>\n",
       "      <td>0</td>\n",
       "      <td>1</td>\n",
       "      <td>1</td>\n",
       "      <td>NaN</td>\n",
       "    </tr>\n",
       "    <tr>\n",
       "      <th>1</th>\n",
       "      <td>0297fc1e</td>\n",
       "      <td>15</td>\n",
       "      <td>9</td>\n",
       "      <td>15</td>\n",
       "      <td>0</td>\n",
       "      <td>567</td>\n",
       "      <td>173</td>\n",
       "      <td>126</td>\n",
       "      <td>53</td>\n",
       "      <td>8</td>\n",
       "      <td>7</td>\n",
       "      <td>2</td>\n",
       "      <td>NaN</td>\n",
       "    </tr>\n",
       "    <tr>\n",
       "      <th>2</th>\n",
       "      <td>2d681dd8</td>\n",
       "      <td>2</td>\n",
       "      <td>138</td>\n",
       "      <td>3</td>\n",
       "      <td>1</td>\n",
       "      <td>26</td>\n",
       "      <td>26</td>\n",
       "      <td>26</td>\n",
       "      <td>16</td>\n",
       "      <td>0</td>\n",
       "      <td>1</td>\n",
       "      <td>1</td>\n",
       "      <td>NaN</td>\n",
       "    </tr>\n",
       "    <tr>\n",
       "      <th>3</th>\n",
       "      <td>cccea85e</td>\n",
       "      <td>13</td>\n",
       "      <td>127</td>\n",
       "      <td>57</td>\n",
       "      <td>1</td>\n",
       "      <td>836</td>\n",
       "      <td>836</td>\n",
       "      <td>449</td>\n",
       "      <td>270</td>\n",
       "      <td>252</td>\n",
       "      <td>1</td>\n",
       "      <td>1</td>\n",
       "      <td>NaN</td>\n",
       "    </tr>\n",
       "    <tr>\n",
       "      <th>4</th>\n",
       "      <td>4c8a8b93</td>\n",
       "      <td>5</td>\n",
       "      <td>138</td>\n",
       "      <td>9</td>\n",
       "      <td>0</td>\n",
       "      <td>257</td>\n",
       "      <td>257</td>\n",
       "      <td>257</td>\n",
       "      <td>0</td>\n",
       "      <td>0</td>\n",
       "      <td>2</td>\n",
       "      <td>2</td>\n",
       "      <td>NaN</td>\n",
       "    </tr>\n",
       "  </tbody>\n",
       "</table>\n",
       "</div>"
      ],
      "text/plain": [
       "     person  dias_distintos  ultima_visita  modelos_distintos_vistos  \\\n",
       "0  4886f805               1            138                         1   \n",
       "1  0297fc1e              15              9                        15   \n",
       "2  2d681dd8               2            138                         3   \n",
       "3  cccea85e              13            127                        57   \n",
       "4  4c8a8b93               5            138                         9   \n",
       "\n",
       "   busqueda_celular  total_visitas_usuario  visitas_ultimo_mes  \\\n",
       "0                 0                      9                   9   \n",
       "1                 0                    567                 173   \n",
       "2                 1                     26                  26   \n",
       "3                 1                    836                 836   \n",
       "4                 0                    257                 257   \n",
       "\n",
       "   visitas_ultimos_15  visitas_ultima_semana  visitas_ultimos_3  \\\n",
       "0                   9                      0                  0   \n",
       "1                 126                     53                  8   \n",
       "2                  26                     16                  0   \n",
       "3                 449                    270                252   \n",
       "4                 257                      0                  0   \n",
       "\n",
       "   total_checkout  checkouts_ultimo_mes  label  \n",
       "0               1                     1    NaN  \n",
       "1               7                     2    NaN  \n",
       "2               1                     1    NaN  \n",
       "3               1                     1    NaN  \n",
       "4               2                     2    NaN  "
      ]
     },
     "execution_count": 52,
     "metadata": {},
     "output_type": "execute_result"
    }
   ],
   "source": [
    "kaggle.head()"
   ]
  },
  {
   "cell_type": "code",
   "execution_count": 53,
   "metadata": {},
   "outputs": [],
   "source": [
    "predictions=vclf.predict_proba(kaggle.drop(['person','label'], axis=1)) "
   ]
  },
  {
   "cell_type": "code",
   "execution_count": 54,
   "metadata": {},
   "outputs": [],
   "source": [
    "kaggle['prediction0'] = predictions[:,0]\n",
    "kaggle['prediction1'] = predictions[:,1]"
   ]
  },
  {
   "cell_type": "code",
   "execution_count": 55,
   "metadata": {},
   "outputs": [
    {
     "data": {
      "text/html": [
       "<div>\n",
       "<style scoped>\n",
       "    .dataframe tbody tr th:only-of-type {\n",
       "        vertical-align: middle;\n",
       "    }\n",
       "\n",
       "    .dataframe tbody tr th {\n",
       "        vertical-align: top;\n",
       "    }\n",
       "\n",
       "    .dataframe thead th {\n",
       "        text-align: right;\n",
       "    }\n",
       "</style>\n",
       "<table border=\"1\" class=\"dataframe\">\n",
       "  <thead>\n",
       "    <tr style=\"text-align: right;\">\n",
       "      <th></th>\n",
       "      <th>person</th>\n",
       "      <th>dias_distintos</th>\n",
       "      <th>ultima_visita</th>\n",
       "      <th>modelos_distintos_vistos</th>\n",
       "      <th>busqueda_celular</th>\n",
       "      <th>total_visitas_usuario</th>\n",
       "      <th>visitas_ultimo_mes</th>\n",
       "      <th>visitas_ultimos_15</th>\n",
       "      <th>visitas_ultima_semana</th>\n",
       "      <th>visitas_ultimos_3</th>\n",
       "      <th>total_checkout</th>\n",
       "      <th>checkouts_ultimo_mes</th>\n",
       "      <th>label</th>\n",
       "      <th>prediction0</th>\n",
       "      <th>prediction1</th>\n",
       "    </tr>\n",
       "  </thead>\n",
       "  <tbody>\n",
       "    <tr>\n",
       "      <th>0</th>\n",
       "      <td>4886f805</td>\n",
       "      <td>1</td>\n",
       "      <td>138</td>\n",
       "      <td>1</td>\n",
       "      <td>0</td>\n",
       "      <td>9</td>\n",
       "      <td>9</td>\n",
       "      <td>9</td>\n",
       "      <td>0</td>\n",
       "      <td>0</td>\n",
       "      <td>1</td>\n",
       "      <td>1</td>\n",
       "      <td>NaN</td>\n",
       "      <td>0.742021</td>\n",
       "      <td>0.257979</td>\n",
       "    </tr>\n",
       "    <tr>\n",
       "      <th>1</th>\n",
       "      <td>0297fc1e</td>\n",
       "      <td>15</td>\n",
       "      <td>9</td>\n",
       "      <td>15</td>\n",
       "      <td>0</td>\n",
       "      <td>567</td>\n",
       "      <td>173</td>\n",
       "      <td>126</td>\n",
       "      <td>53</td>\n",
       "      <td>8</td>\n",
       "      <td>7</td>\n",
       "      <td>2</td>\n",
       "      <td>NaN</td>\n",
       "      <td>0.442341</td>\n",
       "      <td>0.557659</td>\n",
       "    </tr>\n",
       "    <tr>\n",
       "      <th>2</th>\n",
       "      <td>2d681dd8</td>\n",
       "      <td>2</td>\n",
       "      <td>138</td>\n",
       "      <td>3</td>\n",
       "      <td>1</td>\n",
       "      <td>26</td>\n",
       "      <td>26</td>\n",
       "      <td>26</td>\n",
       "      <td>16</td>\n",
       "      <td>0</td>\n",
       "      <td>1</td>\n",
       "      <td>1</td>\n",
       "      <td>NaN</td>\n",
       "      <td>0.701387</td>\n",
       "      <td>0.298613</td>\n",
       "    </tr>\n",
       "    <tr>\n",
       "      <th>3</th>\n",
       "      <td>cccea85e</td>\n",
       "      <td>13</td>\n",
       "      <td>127</td>\n",
       "      <td>57</td>\n",
       "      <td>1</td>\n",
       "      <td>836</td>\n",
       "      <td>836</td>\n",
       "      <td>449</td>\n",
       "      <td>270</td>\n",
       "      <td>252</td>\n",
       "      <td>1</td>\n",
       "      <td>1</td>\n",
       "      <td>NaN</td>\n",
       "      <td>0.542595</td>\n",
       "      <td>0.457405</td>\n",
       "    </tr>\n",
       "    <tr>\n",
       "      <th>4</th>\n",
       "      <td>4c8a8b93</td>\n",
       "      <td>5</td>\n",
       "      <td>138</td>\n",
       "      <td>9</td>\n",
       "      <td>0</td>\n",
       "      <td>257</td>\n",
       "      <td>257</td>\n",
       "      <td>257</td>\n",
       "      <td>0</td>\n",
       "      <td>0</td>\n",
       "      <td>2</td>\n",
       "      <td>2</td>\n",
       "      <td>NaN</td>\n",
       "      <td>0.587328</td>\n",
       "      <td>0.412672</td>\n",
       "    </tr>\n",
       "  </tbody>\n",
       "</table>\n",
       "</div>"
      ],
      "text/plain": [
       "     person  dias_distintos  ultima_visita  modelos_distintos_vistos  \\\n",
       "0  4886f805               1            138                         1   \n",
       "1  0297fc1e              15              9                        15   \n",
       "2  2d681dd8               2            138                         3   \n",
       "3  cccea85e              13            127                        57   \n",
       "4  4c8a8b93               5            138                         9   \n",
       "\n",
       "   busqueda_celular  total_visitas_usuario  visitas_ultimo_mes  \\\n",
       "0                 0                      9                   9   \n",
       "1                 0                    567                 173   \n",
       "2                 1                     26                  26   \n",
       "3                 1                    836                 836   \n",
       "4                 0                    257                 257   \n",
       "\n",
       "   visitas_ultimos_15  visitas_ultima_semana  visitas_ultimos_3  \\\n",
       "0                   9                      0                  0   \n",
       "1                 126                     53                  8   \n",
       "2                  26                     16                  0   \n",
       "3                 449                    270                252   \n",
       "4                 257                      0                  0   \n",
       "\n",
       "   total_checkout  checkouts_ultimo_mes  label  prediction0  prediction1  \n",
       "0               1                     1    NaN     0.742021     0.257979  \n",
       "1               7                     2    NaN     0.442341     0.557659  \n",
       "2               1                     1    NaN     0.701387     0.298613  \n",
       "3               1                     1    NaN     0.542595     0.457405  \n",
       "4               2                     2    NaN     0.587328     0.412672  "
      ]
     },
     "execution_count": 55,
     "metadata": {},
     "output_type": "execute_result"
    }
   ],
   "source": [
    "kaggle.head()"
   ]
  },
  {
   "cell_type": "code",
   "execution_count": 56,
   "metadata": {},
   "outputs": [],
   "source": [
    "kaggle[['person','prediction1']].to_csv('predicciones.csv', encoding='utf-8', index=False)"
   ]
  }
 ],
 "metadata": {
  "kernelspec": {
   "display_name": "Python 3",
   "language": "python",
   "name": "python3"
  },
  "language_info": {
   "codemirror_mode": {
    "name": "ipython",
    "version": 3
   },
   "file_extension": ".py",
   "mimetype": "text/x-python",
   "name": "python",
   "nbconvert_exporter": "python",
   "pygments_lexer": "ipython3",
   "version": "3.6.5"
  }
 },
 "nbformat": 4,
 "nbformat_minor": 2
}
