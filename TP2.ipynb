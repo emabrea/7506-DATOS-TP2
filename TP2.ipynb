{
 "cells": [
  {
   "cell_type": "code",
   "execution_count": 1,
   "metadata": {},
   "outputs": [],
   "source": [
    "import pandas as pd\n",
    "import numpy as np\n",
    "import matplotlib.pylab as plt\n",
    "%matplotlib inline"
   ]
  },
  {
   "cell_type": "code",
   "execution_count": 2,
   "metadata": {},
   "outputs": [],
   "source": [
    "modelo=pd.read_csv('data/modelo.csv',low_memory=False)"
   ]
  },
  {
   "cell_type": "code",
   "execution_count": 3,
   "metadata": {},
   "outputs": [
    {
     "data": {
      "text/html": [
       "<div>\n",
       "<style scoped>\n",
       "    .dataframe tbody tr th:only-of-type {\n",
       "        vertical-align: middle;\n",
       "    }\n",
       "\n",
       "    .dataframe tbody tr th {\n",
       "        vertical-align: top;\n",
       "    }\n",
       "\n",
       "    .dataframe thead th {\n",
       "        text-align: right;\n",
       "    }\n",
       "</style>\n",
       "<table border=\"1\" class=\"dataframe\">\n",
       "  <thead>\n",
       "    <tr style=\"text-align: right;\">\n",
       "      <th></th>\n",
       "      <th>timestamp</th>\n",
       "      <th>event</th>\n",
       "      <th>person</th>\n",
       "      <th>url</th>\n",
       "      <th>sku</th>\n",
       "      <th>model</th>\n",
       "      <th>condition</th>\n",
       "      <th>storage</th>\n",
       "      <th>color</th>\n",
       "      <th>skus</th>\n",
       "      <th>...</th>\n",
       "      <th>search_engine</th>\n",
       "      <th>channel</th>\n",
       "      <th>new_vs_returning</th>\n",
       "      <th>city</th>\n",
       "      <th>region</th>\n",
       "      <th>country</th>\n",
       "      <th>device_type</th>\n",
       "      <th>screen_resolution</th>\n",
       "      <th>operating_system_version</th>\n",
       "      <th>browser_version</th>\n",
       "    </tr>\n",
       "  </thead>\n",
       "  <tbody>\n",
       "    <tr>\n",
       "      <th>0</th>\n",
       "      <td>2018-05-18 00:11:59</td>\n",
       "      <td>viewed product</td>\n",
       "      <td>4886f805</td>\n",
       "      <td>NaN</td>\n",
       "      <td>9288.0</td>\n",
       "      <td>Samsung Galaxy J7 Prime</td>\n",
       "      <td>Excelente</td>\n",
       "      <td>32GB</td>\n",
       "      <td>Dourado</td>\n",
       "      <td>NaN</td>\n",
       "      <td>...</td>\n",
       "      <td>NaN</td>\n",
       "      <td>NaN</td>\n",
       "      <td>NaN</td>\n",
       "      <td>NaN</td>\n",
       "      <td>NaN</td>\n",
       "      <td>NaN</td>\n",
       "      <td>NaN</td>\n",
       "      <td>NaN</td>\n",
       "      <td>NaN</td>\n",
       "      <td>NaN</td>\n",
       "    </tr>\n",
       "    <tr>\n",
       "      <th>1</th>\n",
       "      <td>2018-05-18 00:11:27</td>\n",
       "      <td>viewed product</td>\n",
       "      <td>ad93850f</td>\n",
       "      <td>NaN</td>\n",
       "      <td>304.0</td>\n",
       "      <td>iPhone 5s</td>\n",
       "      <td>Muito Bom</td>\n",
       "      <td>32GB</td>\n",
       "      <td>Cinza espacial</td>\n",
       "      <td>NaN</td>\n",
       "      <td>...</td>\n",
       "      <td>NaN</td>\n",
       "      <td>NaN</td>\n",
       "      <td>NaN</td>\n",
       "      <td>NaN</td>\n",
       "      <td>NaN</td>\n",
       "      <td>NaN</td>\n",
       "      <td>NaN</td>\n",
       "      <td>NaN</td>\n",
       "      <td>NaN</td>\n",
       "      <td>NaN</td>\n",
       "    </tr>\n",
       "    <tr>\n",
       "      <th>2</th>\n",
       "      <td>2018-05-18 00:11:16</td>\n",
       "      <td>viewed product</td>\n",
       "      <td>0297fc1e</td>\n",
       "      <td>NaN</td>\n",
       "      <td>6888.0</td>\n",
       "      <td>iPhone 6S</td>\n",
       "      <td>Muito Bom</td>\n",
       "      <td>64GB</td>\n",
       "      <td>Prateado</td>\n",
       "      <td>NaN</td>\n",
       "      <td>...</td>\n",
       "      <td>NaN</td>\n",
       "      <td>NaN</td>\n",
       "      <td>NaN</td>\n",
       "      <td>NaN</td>\n",
       "      <td>NaN</td>\n",
       "      <td>NaN</td>\n",
       "      <td>NaN</td>\n",
       "      <td>NaN</td>\n",
       "      <td>NaN</td>\n",
       "      <td>NaN</td>\n",
       "    </tr>\n",
       "    <tr>\n",
       "      <th>3</th>\n",
       "      <td>2018-05-18 00:11:14</td>\n",
       "      <td>viewed product</td>\n",
       "      <td>2d681dd8</td>\n",
       "      <td>NaN</td>\n",
       "      <td>11890.0</td>\n",
       "      <td>iPhone 7</td>\n",
       "      <td>Bom</td>\n",
       "      <td>128GB</td>\n",
       "      <td>Vermelho</td>\n",
       "      <td>NaN</td>\n",
       "      <td>...</td>\n",
       "      <td>NaN</td>\n",
       "      <td>NaN</td>\n",
       "      <td>NaN</td>\n",
       "      <td>NaN</td>\n",
       "      <td>NaN</td>\n",
       "      <td>NaN</td>\n",
       "      <td>NaN</td>\n",
       "      <td>NaN</td>\n",
       "      <td>NaN</td>\n",
       "      <td>NaN</td>\n",
       "    </tr>\n",
       "    <tr>\n",
       "      <th>4</th>\n",
       "      <td>2018-05-18 00:11:09</td>\n",
       "      <td>viewed product</td>\n",
       "      <td>cccea85e</td>\n",
       "      <td>NaN</td>\n",
       "      <td>7517.0</td>\n",
       "      <td>LG G4 H818P</td>\n",
       "      <td>Excelente</td>\n",
       "      <td>32GB</td>\n",
       "      <td>Branco</td>\n",
       "      <td>NaN</td>\n",
       "      <td>...</td>\n",
       "      <td>NaN</td>\n",
       "      <td>NaN</td>\n",
       "      <td>NaN</td>\n",
       "      <td>NaN</td>\n",
       "      <td>NaN</td>\n",
       "      <td>NaN</td>\n",
       "      <td>NaN</td>\n",
       "      <td>NaN</td>\n",
       "      <td>NaN</td>\n",
       "      <td>NaN</td>\n",
       "    </tr>\n",
       "  </tbody>\n",
       "</table>\n",
       "<p>5 rows × 23 columns</p>\n",
       "</div>"
      ],
      "text/plain": [
       "             timestamp           event    person  url      sku  \\\n",
       "0  2018-05-18 00:11:59  viewed product  4886f805  NaN   9288.0   \n",
       "1  2018-05-18 00:11:27  viewed product  ad93850f  NaN    304.0   \n",
       "2  2018-05-18 00:11:16  viewed product  0297fc1e  NaN   6888.0   \n",
       "3  2018-05-18 00:11:14  viewed product  2d681dd8  NaN  11890.0   \n",
       "4  2018-05-18 00:11:09  viewed product  cccea85e  NaN   7517.0   \n",
       "\n",
       "                     model  condition storage           color skus  \\\n",
       "0  Samsung Galaxy J7 Prime  Excelente    32GB         Dourado  NaN   \n",
       "1                iPhone 5s  Muito Bom    32GB  Cinza espacial  NaN   \n",
       "2                iPhone 6S  Muito Bom    64GB        Prateado  NaN   \n",
       "3                 iPhone 7        Bom   128GB        Vermelho  NaN   \n",
       "4              LG G4 H818P  Excelente    32GB          Branco  NaN   \n",
       "\n",
       "        ...       search_engine channel new_vs_returning city region country  \\\n",
       "0       ...                 NaN     NaN              NaN  NaN    NaN     NaN   \n",
       "1       ...                 NaN     NaN              NaN  NaN    NaN     NaN   \n",
       "2       ...                 NaN     NaN              NaN  NaN    NaN     NaN   \n",
       "3       ...                 NaN     NaN              NaN  NaN    NaN     NaN   \n",
       "4       ...                 NaN     NaN              NaN  NaN    NaN     NaN   \n",
       "\n",
       "  device_type screen_resolution operating_system_version browser_version  \n",
       "0         NaN               NaN                      NaN             NaN  \n",
       "1         NaN               NaN                      NaN             NaN  \n",
       "2         NaN               NaN                      NaN             NaN  \n",
       "3         NaN               NaN                      NaN             NaN  \n",
       "4         NaN               NaN                      NaN             NaN  \n",
       "\n",
       "[5 rows x 23 columns]"
      ]
     },
     "execution_count": 3,
     "metadata": {},
     "output_type": "execute_result"
    }
   ],
   "source": [
    "modelo.head()"
   ]
  },
  {
   "cell_type": "code",
   "execution_count": 4,
   "metadata": {},
   "outputs": [],
   "source": [
    "modelo.drop(['url', 'sku', 'skus','channel','staticpage','condition','storage','color','search_engine','device_type','campaign_source','country','region','search_term','new_vs_returning','city','region','screen_resolution','operating_system_version','browser_version'], axis=1, inplace=True)"
   ]
  },
  {
   "cell_type": "code",
   "execution_count": 5,
   "metadata": {},
   "outputs": [],
   "source": [
    "training= pd.read_csv('data/training.csv',low_memory=False)"
   ]
  },
  {
   "cell_type": "markdown",
   "metadata": {},
   "source": [
    "# Armado del modelo"
   ]
  },
  {
   "cell_type": "code",
   "execution_count": 6,
   "metadata": {},
   "outputs": [],
   "source": [
    "modelo.sort_values('person',inplace=True)"
   ]
  },
  {
   "cell_type": "code",
   "execution_count": 7,
   "metadata": {},
   "outputs": [
    {
     "data": {
      "text/plain": [
       "\"\\nmodelo['checkouts_ultima_semana']=modelo['person'].map(modelo.groupby(['person','event',(modelo['timestamp'].dt.month==5)& (modelo['timestamp'].dt.day>23)]).size().unstack()[True].unstack()['checkout'])\\nmodelo['checkouts_ultima_semana']=modelo['checkouts_ultima_semana'].fillna(0).astype(int)\\n\\n\\n\\nmodelo['total_compras']=modelo['person'].map(modelo.groupby(['person','event']).size().unstack()['conversion'])\\nmodelo['total_compras']=modelo['total_compras'].fillna(0).astype(int)\\n\\n\\n\\nmodelo['compras_ultimo_mes']=modelo['person'].map(modelo.groupby(['person','event',modelo['timestamp'].dt.month==5 ]).size().unstack()[True].unstack()['conversion'])\\nmodelo['compras_ultimo_mes']=modelo['compras_ultimo_mes'].fillna(0).astype(int)\\n\\n\\n\\nmodelo['compras_ultima_semana']=modelo['person'].map(modelo.groupby(['person','event',(modelo['timestamp'].dt.month==5)& (modelo['timestamp'].dt.day>23)]).size().unstack()[True].unstack()['conversion'])\\nmodelo['compras_ultima_semana']=modelo['compras_ultima_semana'].fillna(0).astype(int)\\n\\n\\nmodelo['subscripciones_ultimo_mes']=modelo['person'].map(modelo.groupby(['person','event',modelo['timestamp'].dt.month==5 ]).size().unstack()[True].unstack()['lead'])\\nmodelo['subscripciones_ultimo_mes']=modelo['subscripciones_ultimo_mes'].fillna(0).astype(int)\\n\""
      ]
     },
     "execution_count": 7,
     "metadata": {},
     "output_type": "execute_result"
    }
   ],
   "source": [
    "import calendar\n",
    "\n",
    "modelo['timestamp'] = pd.to_datetime(modelo['timestamp'])\n",
    "\n",
    "\n",
    "modelo['dia']=modelo['timestamp'].dt.dayofyear\n",
    "modelo['dias_distintos'] = modelo['person'].map(modelo.groupby(['person',(modelo['timestamp'].dt.month==5) & ( modelo['timestamp'].dt.day>23) ] )['dia'].nunique().unstack()[True])   \n",
    "modelo['dias_distintos']=modelo['dias_distintos'].fillna(0).astype(int)\n",
    "modelo.drop('dia',1,inplace=True)\n",
    "\n",
    "\n",
    "\n",
    "modelo['modelos_distintos_vistos']= modelo['person'].map( modelo.groupby('person')['model'].nunique())\n",
    "modelo.drop('model',1,inplace=True)\n",
    "\n",
    "\n",
    "modelo['campaña_ultima_semana']=modelo['person'].map(modelo.groupby(['person',(modelo['timestamp'].dt.month==5) & (modelo['timestamp'].dt.day>23) & (modelo['event']==\"ad campaign hit\")]).size().unstack()[True]) \n",
    "modelo['campaña_ultima_semana']=modelo['campaña_ultima_semana'].fillna(0).astype(int)\n",
    "\n",
    "\n",
    "modelo['busqueda_celular']=modelo['person'].map(modelo.groupby(['person',(modelo['timestamp'].dt.month==5) & (modelo['timestamp'].dt.day>23) & (modelo['event']==\"searched products\")]).size().unstack()[True]) \n",
    "modelo['busqueda_celular']=modelo['busqueda_celular'].fillna(0).astype(int)\n",
    "\n",
    "\n",
    "modelo['total_visitas_usuario'] = modelo.groupby('person')['person'].transform('count')\n",
    "\n",
    "\n",
    "modelo['visitas_ultimo_mes']=modelo['person'].map(modelo.groupby(['person',(modelo['timestamp'].dt.month)==5]).size().unstack()[True])\n",
    "modelo['visitas_ultimo_mes']=modelo['visitas_ultimo_mes'].fillna(0).astype(int)\n",
    "\n",
    "\n",
    "modelo['visitas_ultimos_15']=modelo['person'].map(modelo.groupby(['person', (modelo['timestamp'].dt.month==5)& (modelo['timestamp'].dt.day>15)]).size().unstack()[True])\n",
    "modelo['visitas_ultimos_15']=modelo['visitas_ultimos_15'].fillna(0).astype(int)\n",
    "\n",
    "\n",
    "modelo['visitas_ultima_semana']=modelo['person'].map(modelo.groupby(['person', (modelo['timestamp'].dt.month==5)& (modelo['timestamp'].dt.day>23)]).size().unstack()[True])\n",
    "modelo['visitas_ultima_semana']=modelo['visitas_ultima_semana'].fillna(0).astype(int)\n",
    "\n",
    "modelo['visitas_ultimos_3']=modelo['person'].map(modelo.groupby(['person', (modelo['timestamp'].dt.month==5)& (modelo['timestamp'].dt.day>27)]).size().unstack()[True])\n",
    "modelo['visitas_ultimos_3']=modelo['visitas_ultimos_3'].fillna(0).astype(int)\n",
    "\n",
    "\n",
    "modelo['total_checkout']=modelo['person'].map(modelo.groupby(['person','event']).size().unstack()['checkout'])\n",
    "modelo['total_checkout']=modelo['total_checkout'].fillna(0).astype(int)\n",
    "\n",
    "\n",
    "\n",
    "modelo['checkouts_ultimo_mes']=modelo['person'].map(modelo.groupby(['person','event',modelo['timestamp'].dt.month==5 ]).size().unstack()[True].unstack()['checkout'])   \n",
    "modelo['checkouts_ultimo_mes']=modelo['checkouts_ultimo_mes'].fillna(0).astype(int)\n",
    "\n",
    "\n",
    "\"\"\"\n",
    "modelo['checkouts_ultima_semana']=modelo['person'].map(modelo.groupby(['person','event',(modelo['timestamp'].dt.month==5)& (modelo['timestamp'].dt.day>23)]).size().unstack()[True].unstack()['checkout'])\n",
    "modelo['checkouts_ultima_semana']=modelo['checkouts_ultima_semana'].fillna(0).astype(int)\n",
    "\n",
    "\n",
    "\n",
    "modelo['total_compras']=modelo['person'].map(modelo.groupby(['person','event']).size().unstack()['conversion'])\n",
    "modelo['total_compras']=modelo['total_compras'].fillna(0).astype(int)\n",
    "\n",
    "\n",
    "\n",
    "modelo['compras_ultimo_mes']=modelo['person'].map(modelo.groupby(['person','event',modelo['timestamp'].dt.month==5 ]).size().unstack()[True].unstack()['conversion'])\n",
    "modelo['compras_ultimo_mes']=modelo['compras_ultimo_mes'].fillna(0).astype(int)\n",
    "\n",
    "\n",
    "\n",
    "modelo['compras_ultima_semana']=modelo['person'].map(modelo.groupby(['person','event',(modelo['timestamp'].dt.month==5)& (modelo['timestamp'].dt.day>23)]).size().unstack()[True].unstack()['conversion'])\n",
    "modelo['compras_ultima_semana']=modelo['compras_ultima_semana'].fillna(0).astype(int)\n",
    "\n",
    "\n",
    "modelo['subscripciones_ultimo_mes']=modelo['person'].map(modelo.groupby(['person','event',modelo['timestamp'].dt.month==5 ]).size().unstack()[True].unstack()['lead'])\n",
    "modelo['subscripciones_ultimo_mes']=modelo['subscripciones_ultimo_mes'].fillna(0).astype(int)\n",
    "\"\"\"\n"
   ]
  },
  {
   "cell_type": "code",
   "execution_count": 8,
   "metadata": {},
   "outputs": [],
   "source": [
    "modelo=modelo.drop_duplicates(subset=['person'])\n",
    "modelo.drop(['timestamp','event'], 1, inplace=True)"
   ]
  },
  {
   "cell_type": "code",
   "execution_count": 9,
   "metadata": {},
   "outputs": [],
   "source": [
    "modelo=pd.merge(modelo, training, on='person', how='left')"
   ]
  },
  {
   "cell_type": "code",
   "execution_count": 10,
   "metadata": {},
   "outputs": [
    {
     "data": {
      "text/html": [
       "<div>\n",
       "<style scoped>\n",
       "    .dataframe tbody tr th:only-of-type {\n",
       "        vertical-align: middle;\n",
       "    }\n",
       "\n",
       "    .dataframe tbody tr th {\n",
       "        vertical-align: top;\n",
       "    }\n",
       "\n",
       "    .dataframe thead th {\n",
       "        text-align: right;\n",
       "    }\n",
       "</style>\n",
       "<table border=\"1\" class=\"dataframe\">\n",
       "  <thead>\n",
       "    <tr style=\"text-align: right;\">\n",
       "      <th></th>\n",
       "      <th>person</th>\n",
       "      <th>dias_distintos</th>\n",
       "      <th>modelos_distintos_vistos</th>\n",
       "      <th>campaña_ultima_semana</th>\n",
       "      <th>busqueda_celular</th>\n",
       "      <th>total_visitas_usuario</th>\n",
       "      <th>visitas_ultimo_mes</th>\n",
       "      <th>visitas_ultimos_15</th>\n",
       "      <th>visitas_ultima_semana</th>\n",
       "      <th>visitas_ultimos_3</th>\n",
       "      <th>total_checkout</th>\n",
       "      <th>checkouts_ultimo_mes</th>\n",
       "      <th>label</th>\n",
       "    </tr>\n",
       "  </thead>\n",
       "  <tbody>\n",
       "    <tr>\n",
       "      <th>0</th>\n",
       "      <td>0008ed71</td>\n",
       "      <td>0</td>\n",
       "      <td>3</td>\n",
       "      <td>0</td>\n",
       "      <td>0</td>\n",
       "      <td>6</td>\n",
       "      <td>6</td>\n",
       "      <td>6</td>\n",
       "      <td>0</td>\n",
       "      <td>0</td>\n",
       "      <td>3</td>\n",
       "      <td>3</td>\n",
       "      <td>0.0</td>\n",
       "    </tr>\n",
       "    <tr>\n",
       "      <th>1</th>\n",
       "      <td>00091926</td>\n",
       "      <td>4</td>\n",
       "      <td>36</td>\n",
       "      <td>6</td>\n",
       "      <td>0</td>\n",
       "      <td>448</td>\n",
       "      <td>448</td>\n",
       "      <td>261</td>\n",
       "      <td>47</td>\n",
       "      <td>19</td>\n",
       "      <td>2</td>\n",
       "      <td>2</td>\n",
       "      <td>NaN</td>\n",
       "    </tr>\n",
       "    <tr>\n",
       "      <th>2</th>\n",
       "      <td>00091a7a</td>\n",
       "      <td>0</td>\n",
       "      <td>3</td>\n",
       "      <td>0</td>\n",
       "      <td>0</td>\n",
       "      <td>10</td>\n",
       "      <td>0</td>\n",
       "      <td>0</td>\n",
       "      <td>0</td>\n",
       "      <td>0</td>\n",
       "      <td>0</td>\n",
       "      <td>0</td>\n",
       "      <td>NaN</td>\n",
       "    </tr>\n",
       "    <tr>\n",
       "      <th>3</th>\n",
       "      <td>000ba417</td>\n",
       "      <td>2</td>\n",
       "      <td>26</td>\n",
       "      <td>0</td>\n",
       "      <td>0</td>\n",
       "      <td>206</td>\n",
       "      <td>206</td>\n",
       "      <td>206</td>\n",
       "      <td>138</td>\n",
       "      <td>0</td>\n",
       "      <td>6</td>\n",
       "      <td>6</td>\n",
       "      <td>NaN</td>\n",
       "    </tr>\n",
       "    <tr>\n",
       "      <th>4</th>\n",
       "      <td>000c79fe</td>\n",
       "      <td>1</td>\n",
       "      <td>1</td>\n",
       "      <td>1</td>\n",
       "      <td>9</td>\n",
       "      <td>17</td>\n",
       "      <td>17</td>\n",
       "      <td>17</td>\n",
       "      <td>17</td>\n",
       "      <td>17</td>\n",
       "      <td>1</td>\n",
       "      <td>1</td>\n",
       "      <td>0.0</td>\n",
       "    </tr>\n",
       "  </tbody>\n",
       "</table>\n",
       "</div>"
      ],
      "text/plain": [
       "     person  dias_distintos  modelos_distintos_vistos  campaña_ultima_semana  \\\n",
       "0  0008ed71               0                         3                      0   \n",
       "1  00091926               4                        36                      6   \n",
       "2  00091a7a               0                         3                      0   \n",
       "3  000ba417               2                        26                      0   \n",
       "4  000c79fe               1                         1                      1   \n",
       "\n",
       "   busqueda_celular  total_visitas_usuario  visitas_ultimo_mes  \\\n",
       "0                 0                      6                   6   \n",
       "1                 0                    448                 448   \n",
       "2                 0                     10                   0   \n",
       "3                 0                    206                 206   \n",
       "4                 9                     17                  17   \n",
       "\n",
       "   visitas_ultimos_15  visitas_ultima_semana  visitas_ultimos_3  \\\n",
       "0                   6                      0                  0   \n",
       "1                 261                     47                 19   \n",
       "2                   0                      0                  0   \n",
       "3                 206                    138                  0   \n",
       "4                  17                     17                 17   \n",
       "\n",
       "   total_checkout  checkouts_ultimo_mes  label  \n",
       "0               3                     3    0.0  \n",
       "1               2                     2    NaN  \n",
       "2               0                     0    NaN  \n",
       "3               6                     6    NaN  \n",
       "4               1                     1    0.0  "
      ]
     },
     "execution_count": 10,
     "metadata": {},
     "output_type": "execute_result"
    }
   ],
   "source": [
    "modelo.head()"
   ]
  },
  {
   "cell_type": "code",
   "execution_count": 11,
   "metadata": {},
   "outputs": [
    {
     "data": {
      "text/html": [
       "<div>\n",
       "<style scoped>\n",
       "    .dataframe tbody tr th:only-of-type {\n",
       "        vertical-align: middle;\n",
       "    }\n",
       "\n",
       "    .dataframe tbody tr th {\n",
       "        vertical-align: top;\n",
       "    }\n",
       "\n",
       "    .dataframe thead th {\n",
       "        text-align: right;\n",
       "    }\n",
       "</style>\n",
       "<table border=\"1\" class=\"dataframe\">\n",
       "  <thead>\n",
       "    <tr style=\"text-align: right;\">\n",
       "      <th></th>\n",
       "      <th>person</th>\n",
       "      <th>dias_distintos</th>\n",
       "      <th>modelos_distintos_vistos</th>\n",
       "      <th>campaña_ultima_semana</th>\n",
       "      <th>busqueda_celular</th>\n",
       "      <th>total_visitas_usuario</th>\n",
       "      <th>visitas_ultimo_mes</th>\n",
       "      <th>visitas_ultimos_15</th>\n",
       "      <th>visitas_ultima_semana</th>\n",
       "      <th>visitas_ultimos_3</th>\n",
       "      <th>total_checkout</th>\n",
       "      <th>checkouts_ultimo_mes</th>\n",
       "      <th>label</th>\n",
       "    </tr>\n",
       "  </thead>\n",
       "  <tbody>\n",
       "    <tr>\n",
       "      <th>1</th>\n",
       "      <td>00091926</td>\n",
       "      <td>4</td>\n",
       "      <td>36</td>\n",
       "      <td>6</td>\n",
       "      <td>0</td>\n",
       "      <td>448</td>\n",
       "      <td>448</td>\n",
       "      <td>261</td>\n",
       "      <td>47</td>\n",
       "      <td>19</td>\n",
       "      <td>2</td>\n",
       "      <td>2</td>\n",
       "      <td>NaN</td>\n",
       "    </tr>\n",
       "    <tr>\n",
       "      <th>2</th>\n",
       "      <td>00091a7a</td>\n",
       "      <td>0</td>\n",
       "      <td>3</td>\n",
       "      <td>0</td>\n",
       "      <td>0</td>\n",
       "      <td>10</td>\n",
       "      <td>0</td>\n",
       "      <td>0</td>\n",
       "      <td>0</td>\n",
       "      <td>0</td>\n",
       "      <td>0</td>\n",
       "      <td>0</td>\n",
       "      <td>NaN</td>\n",
       "    </tr>\n",
       "    <tr>\n",
       "      <th>3</th>\n",
       "      <td>000ba417</td>\n",
       "      <td>2</td>\n",
       "      <td>26</td>\n",
       "      <td>0</td>\n",
       "      <td>0</td>\n",
       "      <td>206</td>\n",
       "      <td>206</td>\n",
       "      <td>206</td>\n",
       "      <td>138</td>\n",
       "      <td>0</td>\n",
       "      <td>6</td>\n",
       "      <td>6</td>\n",
       "      <td>NaN</td>\n",
       "    </tr>\n",
       "    <tr>\n",
       "      <th>5</th>\n",
       "      <td>000e4d9e</td>\n",
       "      <td>5</td>\n",
       "      <td>37</td>\n",
       "      <td>0</td>\n",
       "      <td>0</td>\n",
       "      <td>411</td>\n",
       "      <td>411</td>\n",
       "      <td>411</td>\n",
       "      <td>112</td>\n",
       "      <td>75</td>\n",
       "      <td>1</td>\n",
       "      <td>1</td>\n",
       "      <td>NaN</td>\n",
       "    </tr>\n",
       "    <tr>\n",
       "      <th>6</th>\n",
       "      <td>000e619d</td>\n",
       "      <td>0</td>\n",
       "      <td>23</td>\n",
       "      <td>0</td>\n",
       "      <td>0</td>\n",
       "      <td>68</td>\n",
       "      <td>68</td>\n",
       "      <td>58</td>\n",
       "      <td>0</td>\n",
       "      <td>0</td>\n",
       "      <td>1</td>\n",
       "      <td>1</td>\n",
       "      <td>NaN</td>\n",
       "    </tr>\n",
       "  </tbody>\n",
       "</table>\n",
       "</div>"
      ],
      "text/plain": [
       "     person  dias_distintos  modelos_distintos_vistos  campaña_ultima_semana  \\\n",
       "1  00091926               4                        36                      6   \n",
       "2  00091a7a               0                         3                      0   \n",
       "3  000ba417               2                        26                      0   \n",
       "5  000e4d9e               5                        37                      0   \n",
       "6  000e619d               0                        23                      0   \n",
       "\n",
       "   busqueda_celular  total_visitas_usuario  visitas_ultimo_mes  \\\n",
       "1                 0                    448                 448   \n",
       "2                 0                     10                   0   \n",
       "3                 0                    206                 206   \n",
       "5                 0                    411                 411   \n",
       "6                 0                     68                  68   \n",
       "\n",
       "   visitas_ultimos_15  visitas_ultima_semana  visitas_ultimos_3  \\\n",
       "1                 261                     47                 19   \n",
       "2                   0                      0                  0   \n",
       "3                 206                    138                  0   \n",
       "5                 411                    112                 75   \n",
       "6                  58                      0                  0   \n",
       "\n",
       "   total_checkout  checkouts_ultimo_mes  label  \n",
       "1               2                     2    NaN  \n",
       "2               0                     0    NaN  \n",
       "3               6                     6    NaN  \n",
       "5               1                     1    NaN  \n",
       "6               1                     1    NaN  "
      ]
     },
     "execution_count": 11,
     "metadata": {},
     "output_type": "execute_result"
    }
   ],
   "source": [
    "a_predecir=modelo[modelo['label'].isnull()]\n",
    "a_predecir.head()"
   ]
  },
  {
   "cell_type": "code",
   "execution_count": 12,
   "metadata": {},
   "outputs": [
    {
     "data": {
      "text/html": [
       "<div>\n",
       "<style scoped>\n",
       "    .dataframe tbody tr th:only-of-type {\n",
       "        vertical-align: middle;\n",
       "    }\n",
       "\n",
       "    .dataframe tbody tr th {\n",
       "        vertical-align: top;\n",
       "    }\n",
       "\n",
       "    .dataframe thead th {\n",
       "        text-align: right;\n",
       "    }\n",
       "</style>\n",
       "<table border=\"1\" class=\"dataframe\">\n",
       "  <thead>\n",
       "    <tr style=\"text-align: right;\">\n",
       "      <th></th>\n",
       "      <th>person</th>\n",
       "      <th>dias_distintos</th>\n",
       "      <th>modelos_distintos_vistos</th>\n",
       "      <th>campaña_ultima_semana</th>\n",
       "      <th>busqueda_celular</th>\n",
       "      <th>total_visitas_usuario</th>\n",
       "      <th>visitas_ultimo_mes</th>\n",
       "      <th>visitas_ultimos_15</th>\n",
       "      <th>visitas_ultima_semana</th>\n",
       "      <th>visitas_ultimos_3</th>\n",
       "      <th>total_checkout</th>\n",
       "      <th>checkouts_ultimo_mes</th>\n",
       "      <th>label</th>\n",
       "    </tr>\n",
       "  </thead>\n",
       "  <tbody>\n",
       "    <tr>\n",
       "      <th>0</th>\n",
       "      <td>0008ed71</td>\n",
       "      <td>0</td>\n",
       "      <td>3</td>\n",
       "      <td>0</td>\n",
       "      <td>0</td>\n",
       "      <td>6</td>\n",
       "      <td>6</td>\n",
       "      <td>6</td>\n",
       "      <td>0</td>\n",
       "      <td>0</td>\n",
       "      <td>3</td>\n",
       "      <td>3</td>\n",
       "      <td>0</td>\n",
       "    </tr>\n",
       "    <tr>\n",
       "      <th>4</th>\n",
       "      <td>000c79fe</td>\n",
       "      <td>1</td>\n",
       "      <td>1</td>\n",
       "      <td>1</td>\n",
       "      <td>9</td>\n",
       "      <td>17</td>\n",
       "      <td>17</td>\n",
       "      <td>17</td>\n",
       "      <td>17</td>\n",
       "      <td>17</td>\n",
       "      <td>1</td>\n",
       "      <td>1</td>\n",
       "      <td>0</td>\n",
       "    </tr>\n",
       "    <tr>\n",
       "      <th>10</th>\n",
       "      <td>001802e4</td>\n",
       "      <td>1</td>\n",
       "      <td>2</td>\n",
       "      <td>5</td>\n",
       "      <td>4</td>\n",
       "      <td>19</td>\n",
       "      <td>19</td>\n",
       "      <td>19</td>\n",
       "      <td>19</td>\n",
       "      <td>19</td>\n",
       "      <td>1</td>\n",
       "      <td>1</td>\n",
       "      <td>0</td>\n",
       "    </tr>\n",
       "    <tr>\n",
       "      <th>12</th>\n",
       "      <td>0019e639</td>\n",
       "      <td>0</td>\n",
       "      <td>26</td>\n",
       "      <td>0</td>\n",
       "      <td>0</td>\n",
       "      <td>471</td>\n",
       "      <td>290</td>\n",
       "      <td>136</td>\n",
       "      <td>0</td>\n",
       "      <td>0</td>\n",
       "      <td>15</td>\n",
       "      <td>4</td>\n",
       "      <td>0</td>\n",
       "    </tr>\n",
       "    <tr>\n",
       "      <th>14</th>\n",
       "      <td>001b0bf9</td>\n",
       "      <td>0</td>\n",
       "      <td>1</td>\n",
       "      <td>0</td>\n",
       "      <td>0</td>\n",
       "      <td>7</td>\n",
       "      <td>7</td>\n",
       "      <td>7</td>\n",
       "      <td>0</td>\n",
       "      <td>0</td>\n",
       "      <td>2</td>\n",
       "      <td>2</td>\n",
       "      <td>0</td>\n",
       "    </tr>\n",
       "  </tbody>\n",
       "</table>\n",
       "</div>"
      ],
      "text/plain": [
       "      person  dias_distintos  modelos_distintos_vistos  campaña_ultima_semana  \\\n",
       "0   0008ed71               0                         3                      0   \n",
       "4   000c79fe               1                         1                      1   \n",
       "10  001802e4               1                         2                      5   \n",
       "12  0019e639               0                        26                      0   \n",
       "14  001b0bf9               0                         1                      0   \n",
       "\n",
       "    busqueda_celular  total_visitas_usuario  visitas_ultimo_mes  \\\n",
       "0                  0                      6                   6   \n",
       "4                  9                     17                  17   \n",
       "10                 4                     19                  19   \n",
       "12                 0                    471                 290   \n",
       "14                 0                      7                   7   \n",
       "\n",
       "    visitas_ultimos_15  visitas_ultima_semana  visitas_ultimos_3  \\\n",
       "0                    6                      0                  0   \n",
       "4                   17                     17                 17   \n",
       "10                  19                     19                 19   \n",
       "12                 136                      0                  0   \n",
       "14                   7                      0                  0   \n",
       "\n",
       "    total_checkout  checkouts_ultimo_mes  label  \n",
       "0                3                     3      0  \n",
       "4                1                     1      0  \n",
       "10               1                     1      0  \n",
       "12              15                     4      0  \n",
       "14               2                     2      0  "
      ]
     },
     "execution_count": 12,
     "metadata": {},
     "output_type": "execute_result"
    }
   ],
   "source": [
    "modelo.drop(modelo[modelo['label'].isnull()].index,inplace=True)\n",
    "modelo['label']=modelo['label'].astype(int)\n",
    "modelo.head()"
   ]
  },
  {
   "cell_type": "code",
   "execution_count": 13,
   "metadata": {},
   "outputs": [
    {
     "data": {
      "text/plain": [
       "(980, 18434)"
      ]
     },
     "execution_count": 13,
     "metadata": {},
     "output_type": "execute_result"
    }
   ],
   "source": [
    "len(modelo[modelo['label']==1]),len(modelo[modelo['label']==0]) "
   ]
  },
  {
   "cell_type": "code",
   "execution_count": 14,
   "metadata": {},
   "outputs": [
    {
     "data": {
      "text/plain": [
       "(5.047903574739879, 94.95209642526012)"
      ]
     },
     "execution_count": 14,
     "metadata": {},
     "output_type": "execute_result"
    }
   ],
   "source": [
    "len(modelo[modelo['label']==1])*100/len(modelo['label']),len(modelo[modelo['label']==0])*100/len(modelo['label'])"
   ]
  },
  {
   "cell_type": "code",
   "execution_count": 15,
   "metadata": {},
   "outputs": [
    {
     "data": {
      "text/html": [
       "<div>\n",
       "<style scoped>\n",
       "    .dataframe tbody tr th:only-of-type {\n",
       "        vertical-align: middle;\n",
       "    }\n",
       "\n",
       "    .dataframe tbody tr th {\n",
       "        vertical-align: top;\n",
       "    }\n",
       "\n",
       "    .dataframe thead th {\n",
       "        text-align: right;\n",
       "    }\n",
       "</style>\n",
       "<table border=\"1\" class=\"dataframe\">\n",
       "  <thead>\n",
       "    <tr style=\"text-align: right;\">\n",
       "      <th></th>\n",
       "      <th>person</th>\n",
       "      <th>dias_distintos</th>\n",
       "      <th>modelos_distintos_vistos</th>\n",
       "      <th>campaña_ultima_semana</th>\n",
       "      <th>busqueda_celular</th>\n",
       "      <th>total_visitas_usuario</th>\n",
       "      <th>visitas_ultimo_mes</th>\n",
       "      <th>visitas_ultimos_15</th>\n",
       "      <th>visitas_ultima_semana</th>\n",
       "      <th>visitas_ultimos_3</th>\n",
       "      <th>total_checkout</th>\n",
       "      <th>checkouts_ultimo_mes</th>\n",
       "      <th>label</th>\n",
       "    </tr>\n",
       "  </thead>\n",
       "  <tbody>\n",
       "    <tr>\n",
       "      <th>31</th>\n",
       "      <td>003476c0</td>\n",
       "      <td>0</td>\n",
       "      <td>2</td>\n",
       "      <td>0</td>\n",
       "      <td>0</td>\n",
       "      <td>43</td>\n",
       "      <td>14</td>\n",
       "      <td>0</td>\n",
       "      <td>0</td>\n",
       "      <td>0</td>\n",
       "      <td>0</td>\n",
       "      <td>0</td>\n",
       "      <td>1</td>\n",
       "    </tr>\n",
       "    <tr>\n",
       "      <th>38</th>\n",
       "      <td>003d4cac</td>\n",
       "      <td>0</td>\n",
       "      <td>2</td>\n",
       "      <td>0</td>\n",
       "      <td>0</td>\n",
       "      <td>8</td>\n",
       "      <td>0</td>\n",
       "      <td>0</td>\n",
       "      <td>0</td>\n",
       "      <td>0</td>\n",
       "      <td>1</td>\n",
       "      <td>0</td>\n",
       "      <td>1</td>\n",
       "    </tr>\n",
       "    <tr>\n",
       "      <th>39</th>\n",
       "      <td>003dd965</td>\n",
       "      <td>0</td>\n",
       "      <td>0</td>\n",
       "      <td>0</td>\n",
       "      <td>0</td>\n",
       "      <td>5</td>\n",
       "      <td>5</td>\n",
       "      <td>5</td>\n",
       "      <td>0</td>\n",
       "      <td>0</td>\n",
       "      <td>0</td>\n",
       "      <td>0</td>\n",
       "      <td>1</td>\n",
       "    </tr>\n",
       "    <tr>\n",
       "      <th>43</th>\n",
       "      <td>0042421c</td>\n",
       "      <td>0</td>\n",
       "      <td>5</td>\n",
       "      <td>0</td>\n",
       "      <td>0</td>\n",
       "      <td>22</td>\n",
       "      <td>0</td>\n",
       "      <td>0</td>\n",
       "      <td>0</td>\n",
       "      <td>0</td>\n",
       "      <td>0</td>\n",
       "      <td>0</td>\n",
       "      <td>1</td>\n",
       "    </tr>\n",
       "    <tr>\n",
       "      <th>57</th>\n",
       "      <td>006671fd</td>\n",
       "      <td>0</td>\n",
       "      <td>5</td>\n",
       "      <td>0</td>\n",
       "      <td>0</td>\n",
       "      <td>18</td>\n",
       "      <td>0</td>\n",
       "      <td>0</td>\n",
       "      <td>0</td>\n",
       "      <td>0</td>\n",
       "      <td>0</td>\n",
       "      <td>0</td>\n",
       "      <td>1</td>\n",
       "    </tr>\n",
       "  </tbody>\n",
       "</table>\n",
       "</div>"
      ],
      "text/plain": [
       "      person  dias_distintos  modelos_distintos_vistos  campaña_ultima_semana  \\\n",
       "31  003476c0               0                         2                      0   \n",
       "38  003d4cac               0                         2                      0   \n",
       "39  003dd965               0                         0                      0   \n",
       "43  0042421c               0                         5                      0   \n",
       "57  006671fd               0                         5                      0   \n",
       "\n",
       "    busqueda_celular  total_visitas_usuario  visitas_ultimo_mes  \\\n",
       "31                 0                     43                  14   \n",
       "38                 0                      8                   0   \n",
       "39                 0                      5                   5   \n",
       "43                 0                     22                   0   \n",
       "57                 0                     18                   0   \n",
       "\n",
       "    visitas_ultimos_15  visitas_ultima_semana  visitas_ultimos_3  \\\n",
       "31                   0                      0                  0   \n",
       "38                   0                      0                  0   \n",
       "39                   5                      0                  0   \n",
       "43                   0                      0                  0   \n",
       "57                   0                      0                  0   \n",
       "\n",
       "    total_checkout  checkouts_ultimo_mes  label  \n",
       "31               0                     0      1  \n",
       "38               1                     0      1  \n",
       "39               0                     0      1  \n",
       "43               0                     0      1  \n",
       "57               0                     0      1  "
      ]
     },
     "execution_count": 15,
     "metadata": {},
     "output_type": "execute_result"
    }
   ],
   "source": [
    "modelo[modelo['label']==1].head()"
   ]
  },
  {
   "cell_type": "code",
   "execution_count": 16,
   "metadata": {},
   "outputs": [
    {
     "data": {
      "text/html": [
       "<div>\n",
       "<style scoped>\n",
       "    .dataframe tbody tr th:only-of-type {\n",
       "        vertical-align: middle;\n",
       "    }\n",
       "\n",
       "    .dataframe tbody tr th {\n",
       "        vertical-align: top;\n",
       "    }\n",
       "\n",
       "    .dataframe thead th {\n",
       "        text-align: right;\n",
       "    }\n",
       "</style>\n",
       "<table border=\"1\" class=\"dataframe\">\n",
       "  <thead>\n",
       "    <tr style=\"text-align: right;\">\n",
       "      <th></th>\n",
       "      <th>person</th>\n",
       "      <th>dias_distintos</th>\n",
       "      <th>modelos_distintos_vistos</th>\n",
       "      <th>campaña_ultima_semana</th>\n",
       "      <th>busqueda_celular</th>\n",
       "      <th>total_visitas_usuario</th>\n",
       "      <th>visitas_ultimo_mes</th>\n",
       "      <th>visitas_ultimos_15</th>\n",
       "      <th>visitas_ultima_semana</th>\n",
       "      <th>visitas_ultimos_3</th>\n",
       "      <th>total_checkout</th>\n",
       "      <th>checkouts_ultimo_mes</th>\n",
       "      <th>label</th>\n",
       "    </tr>\n",
       "  </thead>\n",
       "  <tbody>\n",
       "    <tr>\n",
       "      <th>0</th>\n",
       "      <td>0008ed71</td>\n",
       "      <td>0</td>\n",
       "      <td>3</td>\n",
       "      <td>0</td>\n",
       "      <td>0</td>\n",
       "      <td>6</td>\n",
       "      <td>6</td>\n",
       "      <td>6</td>\n",
       "      <td>0</td>\n",
       "      <td>0</td>\n",
       "      <td>3</td>\n",
       "      <td>3</td>\n",
       "      <td>0</td>\n",
       "    </tr>\n",
       "    <tr>\n",
       "      <th>4</th>\n",
       "      <td>000c79fe</td>\n",
       "      <td>1</td>\n",
       "      <td>1</td>\n",
       "      <td>1</td>\n",
       "      <td>9</td>\n",
       "      <td>17</td>\n",
       "      <td>17</td>\n",
       "      <td>17</td>\n",
       "      <td>17</td>\n",
       "      <td>17</td>\n",
       "      <td>1</td>\n",
       "      <td>1</td>\n",
       "      <td>0</td>\n",
       "    </tr>\n",
       "    <tr>\n",
       "      <th>10</th>\n",
       "      <td>001802e4</td>\n",
       "      <td>1</td>\n",
       "      <td>2</td>\n",
       "      <td>5</td>\n",
       "      <td>4</td>\n",
       "      <td>19</td>\n",
       "      <td>19</td>\n",
       "      <td>19</td>\n",
       "      <td>19</td>\n",
       "      <td>19</td>\n",
       "      <td>1</td>\n",
       "      <td>1</td>\n",
       "      <td>0</td>\n",
       "    </tr>\n",
       "    <tr>\n",
       "      <th>12</th>\n",
       "      <td>0019e639</td>\n",
       "      <td>0</td>\n",
       "      <td>26</td>\n",
       "      <td>0</td>\n",
       "      <td>0</td>\n",
       "      <td>471</td>\n",
       "      <td>290</td>\n",
       "      <td>136</td>\n",
       "      <td>0</td>\n",
       "      <td>0</td>\n",
       "      <td>15</td>\n",
       "      <td>4</td>\n",
       "      <td>0</td>\n",
       "    </tr>\n",
       "    <tr>\n",
       "      <th>14</th>\n",
       "      <td>001b0bf9</td>\n",
       "      <td>0</td>\n",
       "      <td>1</td>\n",
       "      <td>0</td>\n",
       "      <td>0</td>\n",
       "      <td>7</td>\n",
       "      <td>7</td>\n",
       "      <td>7</td>\n",
       "      <td>0</td>\n",
       "      <td>0</td>\n",
       "      <td>2</td>\n",
       "      <td>2</td>\n",
       "      <td>0</td>\n",
       "    </tr>\n",
       "  </tbody>\n",
       "</table>\n",
       "</div>"
      ],
      "text/plain": [
       "      person  dias_distintos  modelos_distintos_vistos  campaña_ultima_semana  \\\n",
       "0   0008ed71               0                         3                      0   \n",
       "4   000c79fe               1                         1                      1   \n",
       "10  001802e4               1                         2                      5   \n",
       "12  0019e639               0                        26                      0   \n",
       "14  001b0bf9               0                         1                      0   \n",
       "\n",
       "    busqueda_celular  total_visitas_usuario  visitas_ultimo_mes  \\\n",
       "0                  0                      6                   6   \n",
       "4                  9                     17                  17   \n",
       "10                 4                     19                  19   \n",
       "12                 0                    471                 290   \n",
       "14                 0                      7                   7   \n",
       "\n",
       "    visitas_ultimos_15  visitas_ultima_semana  visitas_ultimos_3  \\\n",
       "0                    6                      0                  0   \n",
       "4                   17                     17                 17   \n",
       "10                  19                     19                 19   \n",
       "12                 136                      0                  0   \n",
       "14                   7                      0                  0   \n",
       "\n",
       "    total_checkout  checkouts_ultimo_mes  label  \n",
       "0                3                     3      0  \n",
       "4                1                     1      0  \n",
       "10               1                     1      0  \n",
       "12              15                     4      0  \n",
       "14               2                     2      0  "
      ]
     },
     "execution_count": 16,
     "metadata": {},
     "output_type": "execute_result"
    }
   ],
   "source": [
    "modelo[modelo['label']==0].head()"
   ]
  },
  {
   "cell_type": "code",
   "execution_count": 17,
   "metadata": {},
   "outputs": [
    {
     "data": {
      "text/plain": [
       "dias_distintos               0.280920\n",
       "modelos_distintos_vistos     3.446072\n",
       "campaña_ultima_semana        0.343258\n",
       "busqueda_celular             0.586515\n",
       "total_visitas_usuario       43.553997\n",
       "visitas_ultimo_mes          16.661781\n",
       "visitas_ultimos_15           9.752915\n",
       "visitas_ultima_semana       10.056608\n",
       "visitas_ultimos_3            8.237521\n",
       "total_checkout               0.165994\n",
       "checkouts_ultimo_mes        -0.411831\n",
       "label                        1.000000\n",
       "dtype: float64"
      ]
     },
     "execution_count": 17,
     "metadata": {},
     "output_type": "execute_result"
    }
   ],
   "source": [
    "modelo[modelo['label']==1].mean()-modelo[modelo['label']==0].mean()"
   ]
  },
  {
   "cell_type": "markdown",
   "metadata": {},
   "source": [
    "## MACHINE LEARNING"
   ]
  },
  {
   "cell_type": "code",
   "execution_count": 18,
   "metadata": {},
   "outputs": [],
   "source": [
    "##Ahora empieza ML\n",
    "\n",
    "from sklearn.model_selection import train_test_split\n",
    "from sklearn.metrics import accuracy_score\n",
    "from sklearn import metrics\n",
    "from sklearn.metrics import f1_score,precision_score,recall_score,roc_auc_score"
   ]
  },
  {
   "cell_type": "code",
   "execution_count": 19,
   "metadata": {},
   "outputs": [],
   "source": [
    "#Agarro 200 casos que compraron ,y 200 que no compraron , y armo un test aparte\n",
    "from sklearn.utils import shuffle\n",
    "\n",
    "df1=modelo.loc[modelo['label']==1]\n",
    "df1=shuffle(df1)\n",
    "df1=df1.iloc[:200]\n",
    "modelo.drop(df1.index,inplace=True)\n",
    "df2=modelo.loc[modelo['label']==0]\n",
    "df2=shuffle(df2)\n",
    "df2=df2.iloc[:200]\n",
    "modelo.drop(df2.index,inplace=True)\n",
    "df=df1.append(df2, ignore_index=True)\n",
    "df = shuffle(df)\n",
    "xtest=df.drop(['person','label'], axis=1)\n",
    "ytest=df['label']"
   ]
  },
  {
   "cell_type": "markdown",
   "metadata": {},
   "source": [
    "## Resample"
   ]
  },
  {
   "cell_type": "code",
   "execution_count": 20,
   "metadata": {},
   "outputs": [],
   "source": [
    "from sklearn.utils import resample\n",
    "df_minority_upsampled = resample(modelo[modelo['label']==1], \n",
    "                                 replace=True,     # sample with replacement\n",
    "                                 n_samples=18434,    # to match majority class\n",
    "                                 random_state=123) # reproducible results\n",
    "modelo = pd.concat([modelo[modelo['label']==0], df_minority_upsampled])"
   ]
  },
  {
   "cell_type": "code",
   "execution_count": 21,
   "metadata": {},
   "outputs": [],
   "source": [
    "X = modelo.drop(['person','label'], axis=1)\n",
    "y = modelo['label']"
   ]
  },
  {
   "cell_type": "code",
   "execution_count": 22,
   "metadata": {},
   "outputs": [],
   "source": [
    "X_train, X_test, y_train, y_test = train_test_split(X, y,test_size=0.2) "
   ]
  },
  {
   "cell_type": "code",
   "execution_count": 23,
   "metadata": {},
   "outputs": [
    {
     "data": {
      "text/plain": [
       "(29334, 7334, 29334, 7334)"
      ]
     },
     "execution_count": 23,
     "metadata": {},
     "output_type": "execute_result"
    }
   ],
   "source": [
    "len(X_train),len(X_test),len(y_train),len(y_test)"
   ]
  },
  {
   "cell_type": "code",
   "execution_count": 24,
   "metadata": {},
   "outputs": [
    {
     "data": {
      "text/html": [
       "<div>\n",
       "<style scoped>\n",
       "    .dataframe tbody tr th:only-of-type {\n",
       "        vertical-align: middle;\n",
       "    }\n",
       "\n",
       "    .dataframe tbody tr th {\n",
       "        vertical-align: top;\n",
       "    }\n",
       "\n",
       "    .dataframe thead th {\n",
       "        text-align: right;\n",
       "    }\n",
       "</style>\n",
       "<table border=\"1\" class=\"dataframe\">\n",
       "  <thead>\n",
       "    <tr style=\"text-align: right;\">\n",
       "      <th></th>\n",
       "      <th>dias_distintos</th>\n",
       "      <th>modelos_distintos_vistos</th>\n",
       "      <th>campaña_ultima_semana</th>\n",
       "      <th>busqueda_celular</th>\n",
       "      <th>total_visitas_usuario</th>\n",
       "      <th>visitas_ultimo_mes</th>\n",
       "      <th>visitas_ultimos_15</th>\n",
       "      <th>visitas_ultima_semana</th>\n",
       "      <th>visitas_ultimos_3</th>\n",
       "      <th>total_checkout</th>\n",
       "      <th>checkouts_ultimo_mes</th>\n",
       "    </tr>\n",
       "  </thead>\n",
       "  <tbody>\n",
       "    <tr>\n",
       "      <th>28270</th>\n",
       "      <td>0</td>\n",
       "      <td>0</td>\n",
       "      <td>0</td>\n",
       "      <td>0</td>\n",
       "      <td>18</td>\n",
       "      <td>18</td>\n",
       "      <td>0</td>\n",
       "      <td>0</td>\n",
       "      <td>0</td>\n",
       "      <td>0</td>\n",
       "      <td>0</td>\n",
       "    </tr>\n",
       "    <tr>\n",
       "      <th>21269</th>\n",
       "      <td>1</td>\n",
       "      <td>1</td>\n",
       "      <td>1</td>\n",
       "      <td>0</td>\n",
       "      <td>13</td>\n",
       "      <td>3</td>\n",
       "      <td>3</td>\n",
       "      <td>3</td>\n",
       "      <td>3</td>\n",
       "      <td>0</td>\n",
       "      <td>0</td>\n",
       "    </tr>\n",
       "    <tr>\n",
       "      <th>36648</th>\n",
       "      <td>3</td>\n",
       "      <td>2</td>\n",
       "      <td>4</td>\n",
       "      <td>0</td>\n",
       "      <td>19</td>\n",
       "      <td>19</td>\n",
       "      <td>19</td>\n",
       "      <td>19</td>\n",
       "      <td>19</td>\n",
       "      <td>1</td>\n",
       "      <td>1</td>\n",
       "    </tr>\n",
       "    <tr>\n",
       "      <th>4873</th>\n",
       "      <td>0</td>\n",
       "      <td>6</td>\n",
       "      <td>0</td>\n",
       "      <td>0</td>\n",
       "      <td>20</td>\n",
       "      <td>20</td>\n",
       "      <td>20</td>\n",
       "      <td>0</td>\n",
       "      <td>0</td>\n",
       "      <td>1</td>\n",
       "      <td>1</td>\n",
       "    </tr>\n",
       "    <tr>\n",
       "      <th>13445</th>\n",
       "      <td>2</td>\n",
       "      <td>2</td>\n",
       "      <td>3</td>\n",
       "      <td>0</td>\n",
       "      <td>8</td>\n",
       "      <td>8</td>\n",
       "      <td>8</td>\n",
       "      <td>8</td>\n",
       "      <td>8</td>\n",
       "      <td>0</td>\n",
       "      <td>0</td>\n",
       "    </tr>\n",
       "  </tbody>\n",
       "</table>\n",
       "</div>"
      ],
      "text/plain": [
       "       dias_distintos  modelos_distintos_vistos  campaña_ultima_semana  \\\n",
       "28270               0                         0                      0   \n",
       "21269               1                         1                      1   \n",
       "36648               3                         2                      4   \n",
       "4873                0                         6                      0   \n",
       "13445               2                         2                      3   \n",
       "\n",
       "       busqueda_celular  total_visitas_usuario  visitas_ultimo_mes  \\\n",
       "28270                 0                     18                  18   \n",
       "21269                 0                     13                   3   \n",
       "36648                 0                     19                  19   \n",
       "4873                  0                     20                  20   \n",
       "13445                 0                      8                   8   \n",
       "\n",
       "       visitas_ultimos_15  visitas_ultima_semana  visitas_ultimos_3  \\\n",
       "28270                   0                      0                  0   \n",
       "21269                   3                      3                  3   \n",
       "36648                  19                     19                 19   \n",
       "4873                   20                      0                  0   \n",
       "13445                   8                      8                  8   \n",
       "\n",
       "       total_checkout  checkouts_ultimo_mes  \n",
       "28270               0                     0  \n",
       "21269               0                     0  \n",
       "36648               1                     1  \n",
       "4873                1                     1  \n",
       "13445               0                     0  "
      ]
     },
     "execution_count": 24,
     "metadata": {},
     "output_type": "execute_result"
    }
   ],
   "source": [
    "X_train.head()"
   ]
  },
  {
   "cell_type": "code",
   "execution_count": 25,
   "metadata": {},
   "outputs": [
    {
     "data": {
      "text/plain": [
       "28270    1\n",
       "21269    1\n",
       "36648    1\n",
       "4873     0\n",
       "13445    0\n",
       "Name: label, dtype: int32"
      ]
     },
     "execution_count": 25,
     "metadata": {},
     "output_type": "execute_result"
    }
   ],
   "source": [
    "y_train.head()"
   ]
  },
  {
   "cell_type": "code",
   "execution_count": 26,
   "metadata": {},
   "outputs": [
    {
     "data": {
      "text/html": [
       "<div>\n",
       "<style scoped>\n",
       "    .dataframe tbody tr th:only-of-type {\n",
       "        vertical-align: middle;\n",
       "    }\n",
       "\n",
       "    .dataframe tbody tr th {\n",
       "        vertical-align: top;\n",
       "    }\n",
       "\n",
       "    .dataframe thead th {\n",
       "        text-align: right;\n",
       "    }\n",
       "</style>\n",
       "<table border=\"1\" class=\"dataframe\">\n",
       "  <thead>\n",
       "    <tr style=\"text-align: right;\">\n",
       "      <th></th>\n",
       "      <th>dias_distintos</th>\n",
       "      <th>modelos_distintos_vistos</th>\n",
       "      <th>campaña_ultima_semana</th>\n",
       "      <th>busqueda_celular</th>\n",
       "      <th>total_visitas_usuario</th>\n",
       "      <th>visitas_ultimo_mes</th>\n",
       "      <th>visitas_ultimos_15</th>\n",
       "      <th>visitas_ultima_semana</th>\n",
       "      <th>visitas_ultimos_3</th>\n",
       "      <th>total_checkout</th>\n",
       "      <th>checkouts_ultimo_mes</th>\n",
       "    </tr>\n",
       "  </thead>\n",
       "  <tbody>\n",
       "    <tr>\n",
       "      <th>6992</th>\n",
       "      <td>1</td>\n",
       "      <td>17</td>\n",
       "      <td>0</td>\n",
       "      <td>1</td>\n",
       "      <td>55</td>\n",
       "      <td>55</td>\n",
       "      <td>55</td>\n",
       "      <td>16</td>\n",
       "      <td>16</td>\n",
       "      <td>0</td>\n",
       "      <td>0</td>\n",
       "    </tr>\n",
       "    <tr>\n",
       "      <th>25727</th>\n",
       "      <td>0</td>\n",
       "      <td>1</td>\n",
       "      <td>0</td>\n",
       "      <td>0</td>\n",
       "      <td>4</td>\n",
       "      <td>4</td>\n",
       "      <td>4</td>\n",
       "      <td>0</td>\n",
       "      <td>0</td>\n",
       "      <td>1</td>\n",
       "      <td>1</td>\n",
       "    </tr>\n",
       "    <tr>\n",
       "      <th>36371</th>\n",
       "      <td>0</td>\n",
       "      <td>8</td>\n",
       "      <td>0</td>\n",
       "      <td>0</td>\n",
       "      <td>94</td>\n",
       "      <td>24</td>\n",
       "      <td>24</td>\n",
       "      <td>0</td>\n",
       "      <td>0</td>\n",
       "      <td>0</td>\n",
       "      <td>0</td>\n",
       "    </tr>\n",
       "    <tr>\n",
       "      <th>3154</th>\n",
       "      <td>1</td>\n",
       "      <td>4</td>\n",
       "      <td>0</td>\n",
       "      <td>0</td>\n",
       "      <td>19</td>\n",
       "      <td>19</td>\n",
       "      <td>19</td>\n",
       "      <td>19</td>\n",
       "      <td>19</td>\n",
       "      <td>0</td>\n",
       "      <td>0</td>\n",
       "    </tr>\n",
       "    <tr>\n",
       "      <th>1063</th>\n",
       "      <td>1</td>\n",
       "      <td>5</td>\n",
       "      <td>1</td>\n",
       "      <td>0</td>\n",
       "      <td>31</td>\n",
       "      <td>31</td>\n",
       "      <td>31</td>\n",
       "      <td>20</td>\n",
       "      <td>0</td>\n",
       "      <td>1</td>\n",
       "      <td>1</td>\n",
       "    </tr>\n",
       "  </tbody>\n",
       "</table>\n",
       "</div>"
      ],
      "text/plain": [
       "       dias_distintos  modelos_distintos_vistos  campaña_ultima_semana  \\\n",
       "6992                1                        17                      0   \n",
       "25727               0                         1                      0   \n",
       "36371               0                         8                      0   \n",
       "3154                1                         4                      0   \n",
       "1063                1                         5                      1   \n",
       "\n",
       "       busqueda_celular  total_visitas_usuario  visitas_ultimo_mes  \\\n",
       "6992                  1                     55                  55   \n",
       "25727                 0                      4                   4   \n",
       "36371                 0                     94                  24   \n",
       "3154                  0                     19                  19   \n",
       "1063                  0                     31                  31   \n",
       "\n",
       "       visitas_ultimos_15  visitas_ultima_semana  visitas_ultimos_3  \\\n",
       "6992                   55                     16                 16   \n",
       "25727                   4                      0                  0   \n",
       "36371                  24                      0                  0   \n",
       "3154                   19                     19                 19   \n",
       "1063                   31                     20                  0   \n",
       "\n",
       "       total_checkout  checkouts_ultimo_mes  \n",
       "6992                0                     0  \n",
       "25727               1                     1  \n",
       "36371               0                     0  \n",
       "3154                0                     0  \n",
       "1063                1                     1  "
      ]
     },
     "execution_count": 26,
     "metadata": {},
     "output_type": "execute_result"
    }
   ],
   "source": [
    "X_test.head()"
   ]
  },
  {
   "cell_type": "code",
   "execution_count": 27,
   "metadata": {},
   "outputs": [
    {
     "data": {
      "text/plain": [
       "6992     1\n",
       "25727    0\n",
       "36371    1\n",
       "3154     1\n",
       "1063     1\n",
       "Name: label, dtype: int32"
      ]
     },
     "execution_count": 27,
     "metadata": {},
     "output_type": "execute_result"
    }
   ],
   "source": [
    "y_test.head()"
   ]
  },
  {
   "cell_type": "code",
   "execution_count": 28,
   "metadata": {},
   "outputs": [
    {
     "data": {
      "text/plain": [
       "(3661, 3673)"
      ]
     },
     "execution_count": 28,
     "metadata": {},
     "output_type": "execute_result"
    }
   ],
   "source": [
    "len(y_test[y_test == 1]),len(y_test[y_test == 0])"
   ]
  },
  {
   "cell_type": "markdown",
   "metadata": {},
   "source": [
    "## Algoritmos de clasificación"
   ]
  },
  {
   "cell_type": "markdown",
   "metadata": {},
   "source": [
    "## KNN"
   ]
  },
  {
   "cell_type": "code",
   "execution_count": 29,
   "metadata": {},
   "outputs": [
    {
     "data": {
      "text/plain": [
       "KNeighborsClassifier(algorithm='auto', leaf_size=30, metric='minkowski',\n",
       "           metric_params=None, n_jobs=1, n_neighbors=5, p=2,\n",
       "           weights='uniform')"
      ]
     },
     "execution_count": 29,
     "metadata": {},
     "output_type": "execute_result"
    }
   ],
   "source": [
    "from sklearn.neighbors import KNeighborsClassifier\n",
    "my_classifier= KNeighborsClassifier()\n",
    "my_classifier.fit(X_train,y_train)"
   ]
  },
  {
   "cell_type": "markdown",
   "metadata": {},
   "source": [
    "## DECISION TREE"
   ]
  },
  {
   "cell_type": "code",
   "execution_count": 30,
   "metadata": {},
   "outputs": [
    {
     "data": {
      "text/plain": [
       "DecisionTreeClassifier(class_weight=None, criterion='gini', max_depth=None,\n",
       "            max_features=None, max_leaf_nodes=None,\n",
       "            min_impurity_decrease=0.0, min_impurity_split=None,\n",
       "            min_samples_leaf=1, min_samples_split=2,\n",
       "            min_weight_fraction_leaf=0.0, presort=False, random_state=None,\n",
       "            splitter='best')"
      ]
     },
     "execution_count": 30,
     "metadata": {},
     "output_type": "execute_result"
    }
   ],
   "source": [
    "from sklearn import tree\n",
    "my_classifier2= tree.DecisionTreeClassifier()\n",
    "my_classifier2.fit(X_train,y_train)"
   ]
  },
  {
   "cell_type": "markdown",
   "metadata": {},
   "source": [
    "## RANDOM FOREST"
   ]
  },
  {
   "cell_type": "code",
   "execution_count": 31,
   "metadata": {},
   "outputs": [
    {
     "data": {
      "text/plain": [
       "RandomForestClassifier(bootstrap=True, class_weight=None, criterion='gini',\n",
       "            max_depth=None, max_features='auto', max_leaf_nodes=16,\n",
       "            min_impurity_decrease=0.0, min_impurity_split=None,\n",
       "            min_samples_leaf=1, min_samples_split=2,\n",
       "            min_weight_fraction_leaf=0.0, n_estimators=5000, n_jobs=-1,\n",
       "            oob_score=False, random_state=42, verbose=0, warm_start=False)"
      ]
     },
     "execution_count": 31,
     "metadata": {},
     "output_type": "execute_result"
    }
   ],
   "source": [
    "from sklearn.ensemble import RandomForestClassifier\n",
    "my_classifier3 = RandomForestClassifier(n_estimators=5000, max_leaf_nodes=16, n_jobs=-1, random_state=42)\n",
    "my_classifier3.fit(X_train,y_train)"
   ]
  },
  {
   "cell_type": "markdown",
   "metadata": {},
   "source": [
    "## Logistic regression"
   ]
  },
  {
   "cell_type": "code",
   "execution_count": 32,
   "metadata": {},
   "outputs": [
    {
     "data": {
      "text/plain": [
       "LogisticRegression(C=1.0, class_weight=None, dual=False, fit_intercept=True,\n",
       "          intercept_scaling=1, max_iter=100, multi_class='ovr', n_jobs=1,\n",
       "          penalty='l2', random_state=None, solver='liblinear', tol=0.0001,\n",
       "          verbose=0, warm_start=False)"
      ]
     },
     "execution_count": 32,
     "metadata": {},
     "output_type": "execute_result"
    }
   ],
   "source": [
    "from sklearn.linear_model import LogisticRegression\n",
    "my_classifier4 = LogisticRegression()\n",
    "my_classifier4.fit(X_train,y_train)"
   ]
  },
  {
   "cell_type": "markdown",
   "metadata": {},
   "source": [
    "## Neuronal Network"
   ]
  },
  {
   "cell_type": "code",
   "execution_count": 33,
   "metadata": {},
   "outputs": [
    {
     "data": {
      "text/plain": [
       "MLPClassifier(activation='relu', alpha=0.0001, batch_size='auto', beta_1=0.9,\n",
       "       beta_2=0.999, early_stopping=False, epsilon=1e-08,\n",
       "       hidden_layer_sizes=(100, 100, 100), learning_rate='constant',\n",
       "       learning_rate_init=0.001, max_iter=100000, momentum=0.9,\n",
       "       nesterovs_momentum=True, power_t=0.5, random_state=None,\n",
       "       shuffle=True, solver='adam', tol=0.0001, validation_fraction=0.1,\n",
       "       verbose=False, warm_start=False)"
      ]
     },
     "execution_count": 33,
     "metadata": {},
     "output_type": "execute_result"
    }
   ],
   "source": [
    "from sklearn.neural_network import MLPClassifier\n",
    "my_classifier5 = MLPClassifier(max_iter=100000,hidden_layer_sizes=(100,100,100), )\n",
    "my_classifier5.fit(X_train,y_train)"
   ]
  },
  {
   "cell_type": "markdown",
   "metadata": {},
   "source": [
    "## Naive Bayes"
   ]
  },
  {
   "cell_type": "code",
   "execution_count": 34,
   "metadata": {},
   "outputs": [
    {
     "data": {
      "text/plain": [
       "GaussianNB(priors=None)"
      ]
     },
     "execution_count": 34,
     "metadata": {},
     "output_type": "execute_result"
    }
   ],
   "source": [
    "from sklearn.naive_bayes import GaussianNB\n",
    "my_classifier6 = GaussianNB()\n",
    "my_classifier6.fit(X_train,y_train)"
   ]
  },
  {
   "cell_type": "markdown",
   "metadata": {},
   "source": [
    "## SVM"
   ]
  },
  {
   "cell_type": "code",
   "execution_count": 35,
   "metadata": {},
   "outputs": [
    {
     "data": {
      "text/plain": [
       "SVC(C=1.0, cache_size=200, class_weight=None, coef0=0.0,\n",
       "  decision_function_shape='ovr', degree=3, gamma='auto', kernel='rbf',\n",
       "  max_iter=-1, probability=False, random_state=None, shrinking=True,\n",
       "  tol=0.001, verbose=False)"
      ]
     },
     "execution_count": 35,
     "metadata": {},
     "output_type": "execute_result"
    }
   ],
   "source": [
    "from sklearn import svm\n",
    "my_classifier7 =svm.SVC()\n",
    "my_classifier7.fit(X_train,y_train)"
   ]
  },
  {
   "cell_type": "markdown",
   "metadata": {},
   "source": [
    "## AdaBoost"
   ]
  },
  {
   "cell_type": "code",
   "execution_count": 36,
   "metadata": {},
   "outputs": [
    {
     "data": {
      "text/plain": [
       "AdaBoostClassifier(algorithm='SAMME.R',\n",
       "          base_estimator=DecisionTreeClassifier(class_weight=None, criterion='gini', max_depth=1,\n",
       "            max_features=None, max_leaf_nodes=None,\n",
       "            min_impurity_decrease=0.0, min_impurity_split=None,\n",
       "            min_samples_leaf=1, min_samples_split=2,\n",
       "            min_weight_fraction_leaf=0.0, presort=False, random_state=None,\n",
       "            splitter='best'),\n",
       "          learning_rate=0.5, n_estimators=200, random_state=42)"
      ]
     },
     "execution_count": 36,
     "metadata": {},
     "output_type": "execute_result"
    }
   ],
   "source": [
    "from sklearn.ensemble import AdaBoostClassifier\n",
    "my_classifier8 = AdaBoostClassifier(tree.DecisionTreeClassifier(max_depth=1), n_estimators=200,\n",
    "    algorithm=\"SAMME.R\", learning_rate=0.5, random_state=42)\n",
    "my_classifier8.fit(X_train,y_train)"
   ]
  },
  {
   "cell_type": "markdown",
   "metadata": {},
   "source": [
    "## Resultados"
   ]
  },
  {
   "cell_type": "code",
   "execution_count": 37,
   "metadata": {},
   "outputs": [
    {
     "data": {
      "text/html": [
       "<div>\n",
       "<style scoped>\n",
       "    .dataframe tbody tr th:only-of-type {\n",
       "        vertical-align: middle;\n",
       "    }\n",
       "\n",
       "    .dataframe tbody tr th {\n",
       "        vertical-align: top;\n",
       "    }\n",
       "\n",
       "    .dataframe thead th {\n",
       "        text-align: right;\n",
       "    }\n",
       "</style>\n",
       "<table border=\"1\" class=\"dataframe\">\n",
       "  <thead>\n",
       "    <tr style=\"text-align: right;\">\n",
       "      <th></th>\n",
       "      <th>KNN</th>\n",
       "      <th>Decision Tree</th>\n",
       "      <th>Random Forest</th>\n",
       "      <th>Logistic regression</th>\n",
       "      <th>Neuronal Network</th>\n",
       "      <th>Naive Bayes</th>\n",
       "      <th>SVM</th>\n",
       "      <th>Ada boost</th>\n",
       "    </tr>\n",
       "    <tr>\n",
       "      <th>Metric</th>\n",
       "      <th></th>\n",
       "      <th></th>\n",
       "      <th></th>\n",
       "      <th></th>\n",
       "      <th></th>\n",
       "      <th></th>\n",
       "      <th></th>\n",
       "      <th></th>\n",
       "    </tr>\n",
       "  </thead>\n",
       "  <tbody>\n",
       "    <tr>\n",
       "      <th>Accuracy</th>\n",
       "      <td>0.928825</td>\n",
       "      <td>0.961958</td>\n",
       "      <td>0.806518</td>\n",
       "      <td>0.646441</td>\n",
       "      <td>0.897737</td>\n",
       "      <td>0.560267</td>\n",
       "      <td>0.957867</td>\n",
       "      <td>0.798609</td>\n",
       "    </tr>\n",
       "    <tr>\n",
       "      <th>F1 Score</th>\n",
       "      <td>0.928521</td>\n",
       "      <td>0.961909</td>\n",
       "      <td>0.806265</td>\n",
       "      <td>0.641192</td>\n",
       "      <td>0.897487</td>\n",
       "      <td>0.504026</td>\n",
       "      <td>0.957828</td>\n",
       "      <td>0.798607</td>\n",
       "    </tr>\n",
       "    <tr>\n",
       "      <th>Precision</th>\n",
       "      <td>0.936440</td>\n",
       "      <td>0.964461</td>\n",
       "      <td>0.808224</td>\n",
       "      <td>0.655272</td>\n",
       "      <td>0.901799</td>\n",
       "      <td>0.609119</td>\n",
       "      <td>0.959696</td>\n",
       "      <td>0.798630</td>\n",
       "    </tr>\n",
       "    <tr>\n",
       "      <th>Recall</th>\n",
       "      <td>0.928825</td>\n",
       "      <td>0.961958</td>\n",
       "      <td>0.806518</td>\n",
       "      <td>0.646441</td>\n",
       "      <td>0.897737</td>\n",
       "      <td>0.560267</td>\n",
       "      <td>0.957867</td>\n",
       "      <td>0.798609</td>\n",
       "    </tr>\n",
       "    <tr>\n",
       "      <th>ROC AUC Score</th>\n",
       "      <td>0.928932</td>\n",
       "      <td>0.962018</td>\n",
       "      <td>0.806578</td>\n",
       "      <td>0.646244</td>\n",
       "      <td>0.897818</td>\n",
       "      <td>0.559717</td>\n",
       "      <td>0.957919</td>\n",
       "      <td>0.798615</td>\n",
       "    </tr>\n",
       "    <tr>\n",
       "      <th>Aciertos 0</th>\n",
       "      <td>3170.000000</td>\n",
       "      <td>3399.000000</td>\n",
       "      <td>2828.000000</td>\n",
       "      <td>2817.000000</td>\n",
       "      <td>3114.000000</td>\n",
       "      <td>3292.000000</td>\n",
       "      <td>3403.000000</td>\n",
       "      <td>2920.000000</td>\n",
       "    </tr>\n",
       "    <tr>\n",
       "      <th>No aciertos 0</th>\n",
       "      <td>503.000000</td>\n",
       "      <td>274.000000</td>\n",
       "      <td>845.000000</td>\n",
       "      <td>856.000000</td>\n",
       "      <td>559.000000</td>\n",
       "      <td>381.000000</td>\n",
       "      <td>270.000000</td>\n",
       "      <td>753.000000</td>\n",
       "    </tr>\n",
       "    <tr>\n",
       "      <th>No aciertos 1</th>\n",
       "      <td>19.000000</td>\n",
       "      <td>5.000000</td>\n",
       "      <td>574.000000</td>\n",
       "      <td>1737.000000</td>\n",
       "      <td>191.000000</td>\n",
       "      <td>2844.000000</td>\n",
       "      <td>39.000000</td>\n",
       "      <td>724.000000</td>\n",
       "    </tr>\n",
       "    <tr>\n",
       "      <th>Aciertos 1</th>\n",
       "      <td>3642.000000</td>\n",
       "      <td>3656.000000</td>\n",
       "      <td>3087.000000</td>\n",
       "      <td>1924.000000</td>\n",
       "      <td>3470.000000</td>\n",
       "      <td>817.000000</td>\n",
       "      <td>3622.000000</td>\n",
       "      <td>2937.000000</td>\n",
       "    </tr>\n",
       "  </tbody>\n",
       "</table>\n",
       "</div>"
      ],
      "text/plain": [
       "                       KNN  Decision Tree  Random Forest  Logistic regression  \\\n",
       "Metric                                                                          \n",
       "Accuracy          0.928825       0.961958       0.806518             0.646441   \n",
       "F1 Score          0.928521       0.961909       0.806265             0.641192   \n",
       "Precision         0.936440       0.964461       0.808224             0.655272   \n",
       "Recall            0.928825       0.961958       0.806518             0.646441   \n",
       "ROC AUC Score     0.928932       0.962018       0.806578             0.646244   \n",
       "Aciertos 0     3170.000000    3399.000000    2828.000000          2817.000000   \n",
       "No aciertos 0   503.000000     274.000000     845.000000           856.000000   \n",
       "No aciertos 1    19.000000       5.000000     574.000000          1737.000000   \n",
       "Aciertos 1     3642.000000    3656.000000    3087.000000          1924.000000   \n",
       "\n",
       "               Neuronal Network  Naive Bayes          SVM    Ada boost  \n",
       "Metric                                                                  \n",
       "Accuracy               0.897737     0.560267     0.957867     0.798609  \n",
       "F1 Score               0.897487     0.504026     0.957828     0.798607  \n",
       "Precision              0.901799     0.609119     0.959696     0.798630  \n",
       "Recall                 0.897737     0.560267     0.957867     0.798609  \n",
       "ROC AUC Score          0.897818     0.559717     0.957919     0.798615  \n",
       "Aciertos 0          3114.000000  3292.000000  3403.000000  2920.000000  \n",
       "No aciertos 0        559.000000   381.000000   270.000000   753.000000  \n",
       "No aciertos 1        191.000000  2844.000000    39.000000   724.000000  \n",
       "Aciertos 1          3470.000000   817.000000  3622.000000  2937.000000  "
      ]
     },
     "execution_count": 37,
     "metadata": {},
     "output_type": "execute_result"
    }
   ],
   "source": [
    "clasificadores={\"KNN\": my_classifier , \"Decision Tree\": my_classifier2, \"Random Forest\": my_classifier3, \"Logistic regression\": my_classifier4,\"Neuronal Network\":my_classifier5,\n",
    "                \"Naive Bayes\":my_classifier6, \"SVM\":my_classifier7,\"Ada boost\": my_classifier8}\n",
    "resultados={}\n",
    "for key,value in clasificadores.items():\n",
    "    prediction=value.predict(X_test)\n",
    "    matrix=metrics.confusion_matrix(y_test, prediction)\n",
    "    resultados[key]=[accuracy_score(y_test, prediction),f1_score(y_test, prediction, average='weighted'),precision_score(y_test, prediction, average='weighted'),recall_score(y_test, prediction, average='weighted'),\n",
    "    roc_auc_score(y_test, prediction),matrix[0][0],matrix[0][1],matrix[1][0],matrix[1][1]  ]\n",
    "resultados['Metric']=[\"Accuracy\",\"F1 Score\",\"Precision\",\"Recall\",\"ROC AUC Score\",\"Aciertos 0\",\"No aciertos 0\",\"No aciertos 1\",\"Aciertos 1\"]\n",
    "resultados= pd.DataFrame(resultados)\n",
    "resultados.set_index('Metric',inplace=True)\n",
    "resultados"
   ]
  },
  {
   "cell_type": "code",
   "execution_count": 38,
   "metadata": {},
   "outputs": [
    {
     "data": {
      "text/plain": [
       "<matplotlib.axes._subplots.AxesSubplot at 0x23c83e2b6a0>"
      ]
     },
     "execution_count": 38,
     "metadata": {},
     "output_type": "execute_result"
    },
    {
     "data": {
      "image/png": "[encoded data removed]",
      "text/plain": [
       "<Figure size 1728x720 with 1 Axes>"
      ]
     },
     "metadata": {},
     "output_type": "display_data"
    }
   ],
   "source": [
    "resultados.iloc[:5].plot(kind='bar',figsize=(24,10))"
   ]
  },
  {
   "cell_type": "code",
   "execution_count": 39,
   "metadata": {},
   "outputs": [
    {
     "data": {
      "text/html": [
       "<div>\n",
       "<style scoped>\n",
       "    .dataframe tbody tr th:only-of-type {\n",
       "        vertical-align: middle;\n",
       "    }\n",
       "\n",
       "    .dataframe tbody tr th {\n",
       "        vertical-align: top;\n",
       "    }\n",
       "\n",
       "    .dataframe thead th {\n",
       "        text-align: right;\n",
       "    }\n",
       "</style>\n",
       "<table border=\"1\" class=\"dataframe\">\n",
       "  <thead>\n",
       "    <tr style=\"text-align: right;\">\n",
       "      <th></th>\n",
       "      <th>KNN</th>\n",
       "      <th>Decision Tree</th>\n",
       "      <th>Random Forest</th>\n",
       "      <th>Logistic regression</th>\n",
       "      <th>Neuronal Network</th>\n",
       "      <th>Naive Bayes</th>\n",
       "      <th>SVM</th>\n",
       "      <th>Ada boost</th>\n",
       "    </tr>\n",
       "    <tr>\n",
       "      <th>Metric</th>\n",
       "      <th></th>\n",
       "      <th></th>\n",
       "      <th></th>\n",
       "      <th></th>\n",
       "      <th></th>\n",
       "      <th></th>\n",
       "      <th></th>\n",
       "      <th></th>\n",
       "    </tr>\n",
       "  </thead>\n",
       "  <tbody>\n",
       "    <tr>\n",
       "      <th>Accuracy</th>\n",
       "      <td>0.580000</td>\n",
       "      <td>0.585000</td>\n",
       "      <td>0.780000</td>\n",
       "      <td>0.627500</td>\n",
       "      <td>0.687500</td>\n",
       "      <td>0.545000</td>\n",
       "      <td>0.580000</td>\n",
       "      <td>0.757500</td>\n",
       "    </tr>\n",
       "    <tr>\n",
       "      <th>F1 Score</th>\n",
       "      <td>0.552000</td>\n",
       "      <td>0.519175</td>\n",
       "      <td>0.779950</td>\n",
       "      <td>0.621344</td>\n",
       "      <td>0.677334</td>\n",
       "      <td>0.472830</td>\n",
       "      <td>0.519437</td>\n",
       "      <td>0.756830</td>\n",
       "    </tr>\n",
       "    <tr>\n",
       "      <th>Precision</th>\n",
       "      <td>0.606667</td>\n",
       "      <td>0.687887</td>\n",
       "      <td>0.780252</td>\n",
       "      <td>0.636367</td>\n",
       "      <td>0.714537</td>\n",
       "      <td>0.599469</td>\n",
       "      <td>0.661323</td>\n",
       "      <td>0.760371</td>\n",
       "    </tr>\n",
       "    <tr>\n",
       "      <th>Recall</th>\n",
       "      <td>0.580000</td>\n",
       "      <td>0.585000</td>\n",
       "      <td>0.780000</td>\n",
       "      <td>0.627500</td>\n",
       "      <td>0.687500</td>\n",
       "      <td>0.545000</td>\n",
       "      <td>0.580000</td>\n",
       "      <td>0.757500</td>\n",
       "    </tr>\n",
       "    <tr>\n",
       "      <th>ROC AUC Score</th>\n",
       "      <td>0.580000</td>\n",
       "      <td>0.585000</td>\n",
       "      <td>0.780000</td>\n",
       "      <td>0.627500</td>\n",
       "      <td>0.687500</td>\n",
       "      <td>0.545000</td>\n",
       "      <td>0.580000</td>\n",
       "      <td>0.757500</td>\n",
       "    </tr>\n",
       "    <tr>\n",
       "      <th>Aciertos 0</th>\n",
       "      <td>166.000000</td>\n",
       "      <td>191.000000</td>\n",
       "      <td>159.000000</td>\n",
       "      <td>151.000000</td>\n",
       "      <td>173.000000</td>\n",
       "      <td>183.000000</td>\n",
       "      <td>187.000000</td>\n",
       "      <td>162.000000</td>\n",
       "    </tr>\n",
       "    <tr>\n",
       "      <th>No aciertos 0</th>\n",
       "      <td>34.000000</td>\n",
       "      <td>9.000000</td>\n",
       "      <td>41.000000</td>\n",
       "      <td>49.000000</td>\n",
       "      <td>27.000000</td>\n",
       "      <td>17.000000</td>\n",
       "      <td>13.000000</td>\n",
       "      <td>38.000000</td>\n",
       "    </tr>\n",
       "    <tr>\n",
       "      <th>No aciertos 1</th>\n",
       "      <td>134.000000</td>\n",
       "      <td>157.000000</td>\n",
       "      <td>47.000000</td>\n",
       "      <td>100.000000</td>\n",
       "      <td>98.000000</td>\n",
       "      <td>165.000000</td>\n",
       "      <td>155.000000</td>\n",
       "      <td>59.000000</td>\n",
       "    </tr>\n",
       "    <tr>\n",
       "      <th>Aciertos 1</th>\n",
       "      <td>66.000000</td>\n",
       "      <td>43.000000</td>\n",
       "      <td>153.000000</td>\n",
       "      <td>100.000000</td>\n",
       "      <td>102.000000</td>\n",
       "      <td>35.000000</td>\n",
       "      <td>45.000000</td>\n",
       "      <td>141.000000</td>\n",
       "    </tr>\n",
       "  </tbody>\n",
       "</table>\n",
       "</div>"
      ],
      "text/plain": [
       "                      KNN  Decision Tree  Random Forest  Logistic regression  \\\n",
       "Metric                                                                         \n",
       "Accuracy         0.580000       0.585000       0.780000             0.627500   \n",
       "F1 Score         0.552000       0.519175       0.779950             0.621344   \n",
       "Precision        0.606667       0.687887       0.780252             0.636367   \n",
       "Recall           0.580000       0.585000       0.780000             0.627500   \n",
       "ROC AUC Score    0.580000       0.585000       0.780000             0.627500   \n",
       "Aciertos 0     166.000000     191.000000     159.000000           151.000000   \n",
       "No aciertos 0   34.000000       9.000000      41.000000            49.000000   \n",
       "No aciertos 1  134.000000     157.000000      47.000000           100.000000   \n",
       "Aciertos 1      66.000000      43.000000     153.000000           100.000000   \n",
       "\n",
       "               Neuronal Network  Naive Bayes         SVM   Ada boost  \n",
       "Metric                                                                \n",
       "Accuracy               0.687500     0.545000    0.580000    0.757500  \n",
       "F1 Score               0.677334     0.472830    0.519437    0.756830  \n",
       "Precision              0.714537     0.599469    0.661323    0.760371  \n",
       "Recall                 0.687500     0.545000    0.580000    0.757500  \n",
       "ROC AUC Score          0.687500     0.545000    0.580000    0.757500  \n",
       "Aciertos 0           173.000000   183.000000  187.000000  162.000000  \n",
       "No aciertos 0         27.000000    17.000000   13.000000   38.000000  \n",
       "No aciertos 1         98.000000   165.000000  155.000000   59.000000  \n",
       "Aciertos 1           102.000000    35.000000   45.000000  141.000000  "
      ]
     },
     "execution_count": 39,
     "metadata": {},
     "output_type": "execute_result"
    }
   ],
   "source": [
    "resultados2={}\n",
    "for key,value in clasificadores.items():\n",
    "    prediction=value.predict(xtest)\n",
    "    matrix=metrics.confusion_matrix(ytest, prediction)\n",
    "    resultados2[key]=[accuracy_score(ytest, prediction),f1_score(ytest, prediction, average='weighted'),precision_score(ytest, prediction, average='weighted'),recall_score(ytest, prediction, average='weighted'),\n",
    "    roc_auc_score(ytest, prediction),matrix[0][0],matrix[0][1],matrix[1][0],matrix[1][1]  ]\n",
    "resultados2['Metric']=[\"Accuracy\",\"F1 Score\",\"Precision\",\"Recall\",\"ROC AUC Score\",\"Aciertos 0\",\"No aciertos 0\",\"No aciertos 1\",\"Aciertos 1\"]\n",
    "resultados2= pd.DataFrame(resultados2)\n",
    "resultados2.set_index('Metric',inplace=True)\n",
    "resultados2"
   ]
  },
  {
   "cell_type": "code",
   "execution_count": 40,
   "metadata": {},
   "outputs": [
    {
     "data": {
      "text/plain": [
       "<matplotlib.axes._subplots.AxesSubplot at 0x23c83f259e8>"
      ]
     },
     "execution_count": 40,
     "metadata": {},
     "output_type": "execute_result"
    },
    {
     "data": {
      "image/png": "[encoded data removed]",
      "text/plain": [
       "<Figure size 1728x720 with 1 Axes>"
      ]
     },
     "metadata": {},
     "output_type": "display_data"
    }
   ],
   "source": [
    "resultados2.iloc[:5].plot(kind='bar',figsize=(24,10))"
   ]
  },
  {
   "cell_type": "markdown",
   "metadata": {},
   "source": [
    "## Voting Classifier"
   ]
  },
  {
   "cell_type": "code",
   "execution_count": 41,
   "metadata": {},
   "outputs": [
    {
     "name": "stderr",
     "output_type": "stream",
     "text": [
      "d:\\programas\\python\\lib\\site-packages\\sklearn\\preprocessing\\label.py:151: DeprecationWarning: The truth value of an empty array is ambiguous. Returning False, but in future this will result in an error. Use `array.size > 0` to check that an array is not empty.\n",
      "  if diff:\n"
     ]
    },
    {
     "data": {
      "text/plain": [
       "0.9599127352058904"
      ]
     },
     "execution_count": 41,
     "metadata": {},
     "output_type": "execute_result"
    }
   ],
   "source": [
    "from sklearn.ensemble import VotingClassifier\n",
    "vclf1 = VotingClassifier(estimators=[('KNN', my_classifier), ('DT', my_classifier2), ('MLP', my_classifier5)], voting='soft', n_jobs =-1)\n",
    "vclf1 = vclf1.fit(X_train, y_train)\n",
    "predictions = vclf1.predict(X_test)\n",
    "accuracy_score(y_test, predictions)"
   ]
  },
  {
   "cell_type": "code",
   "execution_count": 42,
   "metadata": {},
   "outputs": [
    {
     "data": {
      "text/plain": [
       "(0.9598697896807994, 0.96199583669743, 0.9599127352058904)"
      ]
     },
     "execution_count": 42,
     "metadata": {},
     "output_type": "execute_result"
    }
   ],
   "source": [
    "f1_score(y_test, predictions, average='weighted'),precision_score(y_test, predictions, average='weighted'),recall_score(y_test, predictions, average='weighted')"
   ]
  },
  {
   "cell_type": "code",
   "execution_count": 43,
   "metadata": {},
   "outputs": [
    {
     "data": {
      "text/plain": [
       "array([[3403,  270],\n",
       "       [  24, 3637]], dtype=int64)"
      ]
     },
     "execution_count": 43,
     "metadata": {},
     "output_type": "execute_result"
    }
   ],
   "source": [
    "metrics.confusion_matrix(y_test, predictions)"
   ]
  },
  {
   "cell_type": "code",
   "execution_count": 61,
   "metadata": {},
   "outputs": [
    {
     "name": "stderr",
     "output_type": "stream",
     "text": [
      "d:\\programas\\python\\lib\\site-packages\\sklearn\\preprocessing\\label.py:151: DeprecationWarning: The truth value of an empty array is ambiguous. Returning False, but in future this will result in an error. Use `array.size > 0` to check that an array is not empty.\n",
      "  if diff:\n"
     ]
    },
    {
     "data": {
      "text/plain": [
       "0.7775"
      ]
     },
     "execution_count": 61,
     "metadata": {},
     "output_type": "execute_result"
    }
   ],
   "source": [
    "vclf2 = VotingClassifier(estimators=[  ('RF', my_classifier3), ('ADA', my_classifier8)], voting='soft', n_jobs =-1)\n",
    "vclf2 = vclf2.fit(X_train, y_train)\n",
    "predictions2 = vclf2.predict(xtest)\n",
    "accuracy_score(ytest, predictions2)"
   ]
  },
  {
   "cell_type": "code",
   "execution_count": 62,
   "metadata": {},
   "outputs": [
    {
     "data": {
      "text/plain": [
       "(0.7774318385005408, 0.7778403544341819, 0.7775)"
      ]
     },
     "execution_count": 62,
     "metadata": {},
     "output_type": "execute_result"
    }
   ],
   "source": [
    "f1_score(ytest, predictions2, average='weighted'),precision_score(ytest, predictions2, average='weighted'),recall_score(ytest, predictions2, average='weighted')"
   ]
  },
  {
   "cell_type": "code",
   "execution_count": 63,
   "metadata": {},
   "outputs": [
    {
     "data": {
      "text/plain": [
       "array([[159,  41],\n",
       "       [ 48, 152]], dtype=int64)"
      ]
     },
     "execution_count": 63,
     "metadata": {},
     "output_type": "execute_result"
    }
   ],
   "source": [
    "metrics.confusion_matrix(ytest, predictions2)"
   ]
  },
  {
   "cell_type": "markdown",
   "metadata": {},
   "source": [
    "## KAGGLE PREDICTIONS"
   ]
  },
  {
   "cell_type": "code",
   "execution_count": 47,
   "metadata": {},
   "outputs": [],
   "source": [
    "kaggle= pd.read_csv('data/kaggle.csv',low_memory=False)"
   ]
  },
  {
   "cell_type": "code",
   "execution_count": 48,
   "metadata": {},
   "outputs": [],
   "source": [
    "kaggle=pd.merge(kaggle, a_predecir, on='person', how='inner')"
   ]
  },
  {
   "cell_type": "code",
   "execution_count": 49,
   "metadata": {},
   "outputs": [
    {
     "data": {
      "text/html": [
       "<div>\n",
       "<style scoped>\n",
       "    .dataframe tbody tr th:only-of-type {\n",
       "        vertical-align: middle;\n",
       "    }\n",
       "\n",
       "    .dataframe tbody tr th {\n",
       "        vertical-align: top;\n",
       "    }\n",
       "\n",
       "    .dataframe thead th {\n",
       "        text-align: right;\n",
       "    }\n",
       "</style>\n",
       "<table border=\"1\" class=\"dataframe\">\n",
       "  <thead>\n",
       "    <tr style=\"text-align: right;\">\n",
       "      <th></th>\n",
       "      <th>person</th>\n",
       "      <th>dias_distintos</th>\n",
       "      <th>modelos_distintos_vistos</th>\n",
       "      <th>campaña_ultima_semana</th>\n",
       "      <th>busqueda_celular</th>\n",
       "      <th>total_visitas_usuario</th>\n",
       "      <th>visitas_ultimo_mes</th>\n",
       "      <th>visitas_ultimos_15</th>\n",
       "      <th>visitas_ultima_semana</th>\n",
       "      <th>visitas_ultimos_3</th>\n",
       "      <th>total_checkout</th>\n",
       "      <th>checkouts_ultimo_mes</th>\n",
       "      <th>label</th>\n",
       "    </tr>\n",
       "  </thead>\n",
       "  <tbody>\n",
       "    <tr>\n",
       "      <th>0</th>\n",
       "      <td>4886f805</td>\n",
       "      <td>0</td>\n",
       "      <td>1</td>\n",
       "      <td>0</td>\n",
       "      <td>0</td>\n",
       "      <td>9</td>\n",
       "      <td>9</td>\n",
       "      <td>9</td>\n",
       "      <td>0</td>\n",
       "      <td>0</td>\n",
       "      <td>1</td>\n",
       "      <td>1</td>\n",
       "      <td>NaN</td>\n",
       "    </tr>\n",
       "    <tr>\n",
       "      <th>1</th>\n",
       "      <td>0297fc1e</td>\n",
       "      <td>4</td>\n",
       "      <td>15</td>\n",
       "      <td>1</td>\n",
       "      <td>0</td>\n",
       "      <td>567</td>\n",
       "      <td>173</td>\n",
       "      <td>126</td>\n",
       "      <td>53</td>\n",
       "      <td>8</td>\n",
       "      <td>7</td>\n",
       "      <td>2</td>\n",
       "      <td>NaN</td>\n",
       "    </tr>\n",
       "    <tr>\n",
       "      <th>2</th>\n",
       "      <td>2d681dd8</td>\n",
       "      <td>1</td>\n",
       "      <td>3</td>\n",
       "      <td>1</td>\n",
       "      <td>1</td>\n",
       "      <td>26</td>\n",
       "      <td>26</td>\n",
       "      <td>26</td>\n",
       "      <td>16</td>\n",
       "      <td>0</td>\n",
       "      <td>1</td>\n",
       "      <td>1</td>\n",
       "      <td>NaN</td>\n",
       "    </tr>\n",
       "    <tr>\n",
       "      <th>3</th>\n",
       "      <td>cccea85e</td>\n",
       "      <td>4</td>\n",
       "      <td>57</td>\n",
       "      <td>5</td>\n",
       "      <td>1</td>\n",
       "      <td>836</td>\n",
       "      <td>836</td>\n",
       "      <td>449</td>\n",
       "      <td>270</td>\n",
       "      <td>252</td>\n",
       "      <td>1</td>\n",
       "      <td>1</td>\n",
       "      <td>NaN</td>\n",
       "    </tr>\n",
       "    <tr>\n",
       "      <th>4</th>\n",
       "      <td>4c8a8b93</td>\n",
       "      <td>0</td>\n",
       "      <td>9</td>\n",
       "      <td>0</td>\n",
       "      <td>0</td>\n",
       "      <td>257</td>\n",
       "      <td>257</td>\n",
       "      <td>257</td>\n",
       "      <td>0</td>\n",
       "      <td>0</td>\n",
       "      <td>2</td>\n",
       "      <td>2</td>\n",
       "      <td>NaN</td>\n",
       "    </tr>\n",
       "  </tbody>\n",
       "</table>\n",
       "</div>"
      ],
      "text/plain": [
       "     person  dias_distintos  modelos_distintos_vistos  campaña_ultima_semana  \\\n",
       "0  4886f805               0                         1                      0   \n",
       "1  0297fc1e               4                        15                      1   \n",
       "2  2d681dd8               1                         3                      1   \n",
       "3  cccea85e               4                        57                      5   \n",
       "4  4c8a8b93               0                         9                      0   \n",
       "\n",
       "   busqueda_celular  total_visitas_usuario  visitas_ultimo_mes  \\\n",
       "0                 0                      9                   9   \n",
       "1                 0                    567                 173   \n",
       "2                 1                     26                  26   \n",
       "3                 1                    836                 836   \n",
       "4                 0                    257                 257   \n",
       "\n",
       "   visitas_ultimos_15  visitas_ultima_semana  visitas_ultimos_3  \\\n",
       "0                   9                      0                  0   \n",
       "1                 126                     53                  8   \n",
       "2                  26                     16                  0   \n",
       "3                 449                    270                252   \n",
       "4                 257                      0                  0   \n",
       "\n",
       "   total_checkout  checkouts_ultimo_mes  label  \n",
       "0               1                     1    NaN  \n",
       "1               7                     2    NaN  \n",
       "2               1                     1    NaN  \n",
       "3               1                     1    NaN  \n",
       "4               2                     2    NaN  "
      ]
     },
     "execution_count": 49,
     "metadata": {},
     "output_type": "execute_result"
    }
   ],
   "source": [
    "kaggle.head()"
   ]
  },
  {
   "cell_type": "code",
   "execution_count": 50,
   "metadata": {},
   "outputs": [],
   "source": [
    "np.savetxt(\"predictions.csv\", my_classifier2.predict_proba(kaggle.drop(['person','label'], axis=1))  , delimiter=\",\")"
   ]
  },
  {
   "cell_type": "code",
   "execution_count": 51,
   "metadata": {},
   "outputs": [
    {
     "data": {
      "text/plain": [
       "{0: 17807, 1: 1608}"
      ]
     },
     "execution_count": 51,
     "metadata": {},
     "output_type": "execute_result"
    }
   ],
   "source": [
    "unique, counts = np.unique(my_classifier2.predict(kaggle.drop(['person','label'], axis=1)), return_counts=True)\n",
    "dict(zip(unique, counts))"
   ]
  }
 ],
 "metadata": {
  "kernelspec": {
   "display_name": "Python 3",
   "language": "python",
   "name": "python3"
  },
  "language_info": {
   "codemirror_mode": {
    "name": "ipython",
    "version": 3
   },
   "file_extension": ".py",
   "mimetype": "text/x-python",
   "name": "python",
   "nbconvert_exporter": "python",
   "pygments_lexer": "ipython3",
   "version": "3.6.5"
  }
 },
 "nbformat": 4,
 "nbformat_minor": 2
}
